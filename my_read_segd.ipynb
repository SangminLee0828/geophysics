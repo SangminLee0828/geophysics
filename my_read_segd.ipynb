{
 "cells": [
  {
   "cell_type": "code",
   "execution_count": 215,
   "metadata": {
    "collapsed": true
   },
   "outputs": [],
   "source": [
    "import obspy\n",
    "import struct\n",
    "import numpy as np\n",
    "import math\n",
    "\n",
    "def _bcd(byte):\n",
    "    \"\"\"Decode 1-byte binary code decimals.\"\"\"\n",
    "\n",
    "    if isinstance(byte, str):\n",
    "        try:\n",
    "            byte = ord(byte)\n",
    "        except TypeError:\n",
    "            raise ValueError('not a byte')\n",
    "    elif isinstance(byte, int):\n",
    "        if byte > 255:\n",
    "            raise ValueError('not a byte')\n",
    "\n",
    "    else:\n",
    "        raise ValueError('not a byte')\n",
    "    v1 = byte >> 4\n",
    "    v2 = byte & 0xF\n",
    "    return v1, v2\n",
    "\n",
    "def _decode_bcd(bytes_in):\n",
    "    \"\"\"Decode arbitrary length binary code decimals.\"\"\"\n",
    "    v = 0\n",
    "    if isinstance(bytes_in, int):\n",
    "        bytes_in = bytes([bytes_in])\n",
    "        disp('bytes in')\n",
    "    n = len(bytes_in)\n",
    "    n = n*2 - 1  # 2 values per byte\n",
    "    for byte in bytes_in:\n",
    "        v1, v2 = _bcd(byte)\n",
    "        v += v1*10**n + v2*10**(n-1)\n",
    "        n -= 2\n",
    "    return v\n",
    "\n",
    "def _decode_bin(bytes_in):\n",
    "    \"\"\"Decode unsigned ints.\"\"\"\n",
    "    if isinstance(bytes_in, int):\n",
    "        bytes_in = bytes([bytes_in])\n",
    "    ll = len(bytes_in)\n",
    "    # zero-pad to 4 bytes\n",
    "    b = (chr(0)*(4-ll)).encode()\n",
    "    b += bytes_in\n",
    "    return struct.unpack('>I', b)[0]\n",
    "\n",
    "def _decode_flt(bytes_in):\n",
    "    \"\"\"Decode single-precision floats.\"\"\"\n",
    "    if isinstance(bytes_in, int):\n",
    "        bytes_in = bytes([bytes_in])\n",
    "    ll = len(bytes_in)\n",
    "    # zero-pad to 4 bytes\n",
    "    b = (chr(0)*(4-ll)).encode()\n",
    "    b += bytes_in\n",
    "    f = struct.unpack('>f', b)[0]\n",
    "    if math.isnan(f):\n",
    "        f = None\n",
    "    return f"
   ]
  },
  {
   "cell_type": "code",
   "execution_count": 3,
   "outputs": [],
   "source": [
    "smpl_file = '.\\data\\STRYDE_SEGDv3_Read_Pack_v1.4continuous_data_example_1trace.rsamp'\n",
    "# with open(smpl_file, mode='rb') as file: # b is important -> binary\n",
    "#     fileContent = file.read()\n"
   ],
   "metadata": {
    "collapsed": false,
    "pycharm": {
     "name": "#%%\n"
    }
   }
  },
  {
   "cell_type": "code",
   "execution_count": 4,
   "outputs": [],
   "source": [
    "fp = open(smpl_file, 'rb')\n",
    "buf_header1 = fp.read(32)\n",
    "buf_header2 = fp.read(32)\n",
    "buf_header3 = fp.read(32)\n",
    "fp.close()"
   ],
   "metadata": {
    "collapsed": false,
    "pycharm": {
     "name": "#%%\n"
    }
   }
  },
  {
   "cell_type": "code",
   "execution_count": 132,
   "outputs": [],
   "source": [
    "general_header1 = dict()\n",
    "if _decode_bcd(buf_header1[0:2]) > 9999:\n",
    "    general_header1['file number'] = '{0:0{1}x}'.format(buf_header1[0], 2) + '{0:0{1}x}'.format(buf_header1[1], 2)\n",
    "else:\n",
    "    general_header1['file number'] = _decode_bcd(buf_header1[0:2])\n",
    "\n",
    "general_header1['format code'] = _decode_bcd(buf_header1[2:4])\n",
    "\n",
    "_year = _decode_bcd(buf_header1[10:11]) + 2000\n",
    "_nblocks, _jday = _bcd(buf_header1[11])\n",
    "general_header1['n_additional_blocks'] = _nblocks   # important\n",
    "_jday *= 100\n",
    "_jday += _decode_bcd(buf_header1[12:13])\n",
    "_hour = _decode_bcd(buf_header1[13:14])\n",
    "_min = _decode_bcd(buf_header1[14:15])\n",
    "_sec = _decode_bcd(buf_header1[15:16])\n",
    "general_header1['time'] = obspy.UTCDateTime(year=_year, julday=_jday,\n",
    "                               hour=_hour, minute=_min, second=_sec)\n",
    "\n",
    "# 여기 사이에 추가로 더 들어가야 함.\n",
    "general_header1['scan_type_per_record'] = _decode_bcd(buf_header1[27:28])\n",
    "general_header1['n_channel_sets_per_scan_type'] = _decode_bcd(buf_header1[28:29])\n",
    "general_header1['n_sample_skew_32bit_extensions'] = _decode_bcd(buf_header1[29:30])\n",
    "if _decode_bcd(buf_header1[30:31]) > 99:\n",
    "    general_header1['extended_header_length'] = 'ff'\n",
    "else:\n",
    "    general_header1['extended_header_length'] = _decode_bcd(buf_header1[30:31])\n",
    "general_header1['external_header_length'] = _decode_bcd(buf_header1[31:32])\n",
    "\n"
   ],
   "metadata": {
    "collapsed": false,
    "pycharm": {
     "name": "#%%\n"
    }
   }
  },
  {
   "cell_type": "code",
   "execution_count": 133,
   "outputs": [
    {
     "data": {
      "text/plain": "{'file number': 'ffff',\n 'format code': 8036,\n 'n_additional_blocks': 3,\n 'time': 2020-04-21T15:00:00.000000Z,\n 'scan_type_per_record': 1,\n 'n_channel_sets_per_scan_type': 5,\n 'n_sample_skew_32bit_extensions': 0,\n 'extended_header_length': 'ff',\n 'external_header_length': 0}"
     },
     "execution_count": 133,
     "metadata": {},
     "output_type": "execute_result"
    }
   ],
   "source": [
    "general_header1"
   ],
   "metadata": {
    "collapsed": false,
    "pycharm": {
     "name": "#%%\n"
    }
   }
  },
  {
   "cell_type": "code",
   "execution_count": 232,
   "outputs": [],
   "source": [
    "# 이거는 거의 완성\n",
    "general_header2 = dict()\n",
    "\n",
    "general_header2['extended_file_number'] = _decode_bin(buf_header2[0:3])\n",
    "general_header2['extended_channel_sets_per_scan_types'] = _decode_bin(buf_header2[3:5])\n",
    "general_header2['extended_header_blocks'] = _decode_bin(buf_header2[5:8])\n",
    "general_header2['external_header_blocks'] = _decode_bin(buf_header2[8:10]) # or extended skew blocks\n",
    "\n",
    "_rev = ord(buf_header2[10:11])\n",
    "_rev += ord(buf_header2[11:12])/10.\n",
    "general_header2['segd_revision_number'] = _rev\n",
    "general_header2['no_blocks_of_general_trailer'] = _decode_bin(buf_header2[12:16])\n",
    "general_header2['extended_record_length_in_ms'] = _decode_bin(buf_header2[16:20])\n",
    "general_header2['record_set_number'] = _decode_bin(buf_header2[20:22])\n",
    "general_header2['n_extended_additional_blocks'] = _decode_bin(buf_header2[22:24])\n",
    "general_header2['dominant_sampling_interval_in_us'] = _decode_bin(buf_header2[24:27])\n",
    "general_header2['external_header_blocks'] = _decode_bin(buf_header2[27:30])\n",
    "general_header2['header_block_type'] = _decode_bin(buf_header2[31:32])"
   ],
   "metadata": {
    "collapsed": false,
    "pycharm": {
     "name": "#%%\n"
    }
   }
  },
  {
   "cell_type": "code",
   "execution_count": 233,
   "outputs": [
    {
     "data": {
      "text/plain": "{'extended_file_number': 10002,\n 'extended_channel_sets_per_scan_types': 5,\n 'extended_header_blocks': 374,\n 'external_header_blocks': 0,\n 'segd_revision_number': 3.0,\n 'no_blocks_of_general_trailer': 0,\n 'extended_record_length_in_ms': 3659000000,\n 'record_set_number': 0,\n 'n_extended_additional_blocks': 3,\n 'dominant_sampling_interval_in_us': 2000,\n 'header_block_type': 2}"
     },
     "execution_count": 233,
     "metadata": {},
     "output_type": "execute_result"
    }
   ],
   "source": [
    "general_header2"
   ],
   "metadata": {
    "collapsed": false,
    "pycharm": {
     "name": "#%%\n"
    }
   }
  },
  {
   "cell_type": "code",
   "execution_count": null,
   "outputs": [],
   "source": [
    "fp = open(smpl_file, 'rb')\n",
    "buf_header1 = fp.read(32)\n",
    "buf_header2 = fp.read(32)\n",
    "buf_header3 = fp.read(32)\n",
    "fp.close()"
   ],
   "metadata": {
    "collapsed": false,
    "pycharm": {
     "name": "#%%\n"
    }
   }
  },
  {
   "cell_type": "code",
   "execution_count": 95,
   "outputs": [
    {
     "name": "stdout",
     "output_type": "stream",
     "text": [
      "b'\\x00\\x01v'\n",
      "b'\\x00'\n"
     ]
    }
   ],
   "source": [
    "print(buf_header2[5:8])\n",
    "print(buf_header2[8:9])"
   ],
   "metadata": {
    "collapsed": false,
    "pycharm": {
     "name": "#%%\n"
    }
   }
  },
  {
   "cell_type": "code",
   "execution_count": 158,
   "outputs": [],
   "source": [
    "# channel import\n",
    "buf_channel = dict()\n",
    "buf_channel = []\n",
    "fp = open(smpl_file, 'rb')\n",
    "fp.seek((general_header1['n_additional_blocks'] + 1) * 32)\n",
    "for i in range(general_header1['n_channel_sets_per_scan_type']):\n",
    "    # buf_channel[str(i+1)] = fp.read(96)\n",
    "    buf_channel.append(fp.read(96))\n",
    "\n",
    "fp.close()"
   ],
   "metadata": {
    "collapsed": false,
    "pycharm": {
     "name": "#%%\n"
    }
   }
  },
  {
   "cell_type": "code",
   "execution_count": 225,
   "outputs": [],
   "source": [
    "i = 0\n",
    "channel = dict()\n",
    "channel['scan_type'] = _decode_bcd(buf_channel[i][0:1])\n",
    "channel['channel_set_number'] = _decode_bin(buf_channel[i][1:3])\n",
    "channel['channel_type_identification'] = '{0:0{1}x}'.format(buf_channel[i][3], 2)   # hex\n",
    "channel['channel_set_start_time'] = _decode_bcd(buf_channel[i][4:8])\n",
    "channel['channel_set_end_time'] = _decode_bcd(buf_channel[i][8:12])\n",
    "channel['n_samples_in_each_trac_of_this_channel_set'] = _decode_bin(buf_channel[i][12:16])\n",
    "channel['sample_descale_multiplication_factor'] = round(_decode_flt(buf_channel[i][16:20]), 5) # Careful this\n",
    "channel['n_channels_in_this_channel_set'] = _decode_bin(buf_channel[i][20:23])\n",
    "channel['sampling_interval_in_us'] = _decode_bin(buf_channel[i][23:26])\n",
    "\n"
   ],
   "metadata": {
    "collapsed": false,
    "pycharm": {
     "name": "#%%\n"
    }
   }
  },
  {
   "cell_type": "raw",
   "source": [
    "channel"
   ],
   "metadata": {
    "collapsed": false,
    "pycharm": {
     "name": "#%% raw\n"
    }
   }
  },
  {
   "cell_type": "markdown",
   "source": [
    "# Extended header"
   ],
   "metadata": {
    "collapsed": false,
    "pycharm": {
     "name": "#%% md\n"
    }
   }
  },
  {
   "cell_type": "code",
   "execution_count": 238,
   "outputs": [
    {
     "data": {
      "text/plain": "b'{\\n \"sync\": {\\n  \"syncEventInfo\": [\\n   {\\n    \"syncEvent\": \"eSYNC_EVENT_OPTICAL_LINK\",\\n    \"localTimeInTicks\": \"5119000000000\",\\n    \"globalTime\": {\\n     \"tvSec\": \"1271514446\",\\n     \"tvNsec\": 875002000,\\n     \"timeType\": \"eTIME_TYPE_GPS\"\\n    },\\n    \"opticalSyncSource\": \"eNODE_TYPE_NEST_NODE\"\\n   },\\n   {\\n    \"syncEvent\": \"eSYNC_EVENT_OPTICAL_LINK\",\\n    \"localTimeInTicks\": \"5119999000000\",\\n    \"globalTime\": {\\n     \"tvSec\": \"1271516398\",\\n     \"tvNsec\": 46873000,\\n     \"timeType\": \"eTIME_TYPE_GPS\"\\n    },\\n    \"opticalSyncSource\": \"eNODE_TYPE_MOC\"\\n   },\\n   {\\n    \"syncEvent\": \"eSYNC_EVENT_INTERNAL_GNSS\",\\n    \"localTimeInTicks\": \"5120003584000\",\\n    \"globalTime\": {\\n     \"timeType\": \"eTIME_TYPE_GPS\"\\n    },\\n    \"NmeaString\": \"@UBX BIN::hdr: 0xb5 62 class: 0x1 id: 0x20 length: 16\\\\n\\\\t ::   GPS:: iTOW: 226807000 fTOW: 0 week: 2102 leapS: 18 valid: 7 tACC: 0\",\\n    \"ubxMsgBytes\": \"tWIBIBAA2MyEDQAAAAA2CBIHAAAAAL1g\"\\n   },\\n   {\\n    \"syncEvent\": \"eSYNC_EVENT_INTERNAL_GNSS\",\\n    \"localTimeInTicks\": \"5120925696000\",\\n    \"globalTime\": {\\n     \"timeType\": \"eTIME_TYPE_GPS\"\\n    },\\n    \"NmeaString\": \"@UBX BIN::hdr: 0xb5 62 class: 0x1 id: 0x23 length: 20\\\\n\\\\t ::   GLO:: iTOW: 0 TOD: 66590 fTOD: 0 days: 112 N4: 7 valid: 15 tACC: 0\",\\n    \"ubxMsgBytes\": \"tWIBIxQAAAAAAB4EAQAAAAAAcAAHDwAAAADhFA==\"\\n   },\\n   {\\n    \"syncEvent\": \"eSYNC_EVENT_INTERNAL_GNSS\",\\n    \"localTimeInTicks\": \"5120926208000\",\\n    \"globalTime\": {\\n     \"timeType\": \"eTIME_TYPE_GPS\"\\n    },\\n    \"NmeaString\": \"@UBX BIN::hdr: 0xb5 62 class: 0x1 id: 0x7 length: 92\\\\n\\\\t ::   PVT:: iTOW: 228609000 year: 2020 month: 4 day: 21 hour: 15 min: 29 sec: 51\\\\n\\\\t :: valid: 7(valid  Date and  Time , fully resolved )\\\\n\\\\t :: tAcc: 0 nano: 0 fixType: 0 flags: 0() flags2: 0 numSV: 0\\\\n\\\\t :: lon: 0 lat: 0 height: 0 hMSL: 0 hAcc,vAcc: 0,0\\\\n\\\\t :: velN: 0 velE: 0 velD: 0 gSpeed: 0 headMot: 0 sAcc: 0 headAcc: 0\\\\n\\\\t :: pDOP: 0 headVeh: 0\",\\n    \"ubxMsgBytes\": \"tWIBB1wA6EugDeQHBBUPHTMHAAAAAAAAAAAAAAAAAAAAAAAAAAAAAAAAAAAAAAAAAAAAAAAAAAAAAAAAAAAAAAAAAAAAAAAAAAAAAAAAAAAAAAAAAAAAAAAAAAAAAAAAAACugQ==\"\\n   },\\n   {\\n    \"syncEvent\": \"eSYNC_EVENT_INTERNAL_GNSS\",\\n    \"localTimeInTicks\": \"5120926720000\",\\n    \"globalTime\": {\\n     \"timeType\": \"eTIME_TYPE_GPS\"\\n    },\\n    \"NmeaString\": \"@UBX BIN::hdr: 0xb5 62 class: 0x1 id: 0x20 length: 16\\\\n\\\\t ::   GPS:: iTOW: 228610000 fTOW: 0 week: 2102 leapS: 18 valid: 7 tACC: 0\",\\n    \"ubxMsgBytes\": \"tWIBIBAA0E+gDQAAAAA2CBIHAAAAAFQV\"\\n   },\\n   {\\n    \"syncEvent\": \"eSYNC_EVENT_INTERNAL_GNSS\",\\n    \"localTimeInTicks\": \"5120927232000\",\\n    \"globalTime\": {\\n     \"timeType\": \"eTIME_TYPE_GPS\"\\n    },\\n    \"NmeaString\": \"@UBX BIN::hdr: 0xb5 62 class: 0x1 id: 0x20 length: 16\\\\n\\\\t ::   GPS:: iTOW: 228611000 fTOW: 0 week: 2102 leapS: 18 valid: 7 tACC: 0\",\\n    \"ubxMsgBytes\": \"tWIBIBAAuFOgDQAAAAA2CBIHAAAAAEDR\"\\n   },\\n   {\\n    \"syncEvent\": \"eSYNC_EVENT_INTERNAL_GNSS\",\\n    \"localTimeInTicks\": \"5120927744000\",\\n    \"globalTime\": {\\n     \"timeType\": \"eTIME_TYPE_GPS\"\\n    },\\n    \"NmeaString\": \"@UBX BIN::hdr: 0xb5 62 class: 0x1 id: 0x23 length: 20\\\\n\\\\t ::   GLO:: iTOW: 0 TOD: 66594 fTOD: 0 days: 112 N4: 7 valid: 15 tACC: 0\",\\n    \"ubxMsgBytes\": \"tWIBIxQAAAAAACIEAQAAAAAAcAAHDwAAAADlVA==\"\\n   },\\n   {\\n    \"syncEvent\": \"eSYNC_EVENT_INTERNAL_GNSS\",\\n    \"localTimeInTicks\": \"5120928256000\",\\n    \"globalTime\": {\\n     \"timeType\": \"eTIME_TYPE_GPS\"\\n    },\\n    \"NmeaString\": \"@UBX BIN::hdr: 0xb5 62 class: 0x1 id: 0x7 length: 92\\\\n\\\\t ::   PVT:: iTOW: 228613000 year: 2020 month: 4 day: 21 hour: 15 min: 29 sec: 55\\\\n\\\\t :: valid: 7(valid  Date and  Time , fully resolved )\\\\n\\\\t :: tAcc: 0 nano: 0 fixType: 0 flags: 0() flags2: 0 numSV: 0\\\\n\\\\t :: lon: 0 lat: 0 height: 0 hMSL: 0 hAcc,vAcc: 0,0\\\\n\\\\t :: velN: 0 velE: 0 velD: 0 gSpeed: 0 headMot: 0 sAcc: 0 headAcc: 0\\\\n\\\\t :: pDOP: 0 headVeh: 0\",\\n    \"ubxMsgBytes\": \"tWIBB1wAiFugDeQHBBUPHTcHAAAAAAAAAAAAAAAAAAAAAAAAAAAAAAAAAAAAAAAAAAAAAAAAAAAAAAAAAAAAAAAAAAAAAAAAAAAAAAAAAAAAAAAAAAAAAAAAAAAAAAAAAABi+Q==\"\\n   },\\n   {\\n    \"syncEvent\": \"eSYNC_EVENT_INTERNAL_GNSS\",\\n    \"localTimeInTicks\": \"5120928768000\",\\n    \"globalTime\": {\\n     \"timeType\": \"eTIME_TYPE_GPS\"\\n    },\\n    \"NmeaString\": \"@UBX BIN::hdr: 0xb5 62 class: 0x1 id: 0x20 length: 16\\\\n\\\\t ::   GPS:: iTOW: 228614000 fTOW: 0 week: 2102 leapS: 18 valid: 7 tACC: 0\",\\n    \"ubxMsgBytes\": \"tWIBIBAAcF+gDQAAAAA2CBIHAAAAAAQF\"\\n   },\\n   {\\n    \"syncEvent\": \"eSYNC_EVENT_INTERNAL_GNSS\",\\n    \"localTimeInTicks\": \"5120929280000\",\\n    \"globalTime\": {\\n     \"timeType\": \"eTIME_TYPE_GPS\"\\n    },\\n    \"NmeaString\": \"@UBX BIN::hdr: 0xb5 62 class: 0x1 id: 0x20 length: 16\\\\n\\\\t ::   GPS:: iTOW: 228615000 fTOW: 0 week: 2102 leapS: 18 valid: 7 tACC: 0\",\\n    \"ubxMsgBytes\": \"tWIBIBAAWGOgDQAAAAA2CBIHAAAAAPDB\"\\n   },\\n   {\\n    \"syncEvent\": \"eSYNC_EVENT_INTERNAL_GNSS\",\\n    \"localTimeInTicks\": \"5121851392000\",\\n    \"globalTime\": {\\n     \"timeType\": \"eTIME_TYPE_GPS\"\\n    },\\n    \"NmeaString\": \"@UBX BIN::hdr: 0xb5 62 class: 0x1 id: 0x23 length: 20\\\\n\\\\t ::   GLO:: iTOW: 0 TOD: 68398 fTOD: 0 days: 112 N4: 7 valid: 15 tACC: 0\",\\n    \"ubxMsgBytes\": \"tWIBIxQAAAAAAC4LAQAAAAAAcAAHDwAAAAD4fQ==\"\\n   },\\n   {\\n    \"syncEvent\": \"eSYNC_EVENT_INTERNAL_GNSS\",\\n    \"localTimeInTicks\": \"5121851904000\",\\n    \"globalTime\": {\\n     \"timeType\": \"eTIME_TYPE_GPS\"\\n    },\\n    \"NmeaString\": \"@UBX BIN::hdr: 0xb5 62 class: 0x1 id: 0x7 length: 92\\\\n\\\\t ::   PVT:: iTOW: 230417000 year: 2020 month: 4 day: 21 hour: 15 min: 59 sec: 59\\\\n\\\\t :: valid: 7(valid  Date and  Time , fully resolved )\\\\n\\\\t :: tAcc: 0 nano: 0 fixType: 0 flags: 0() flags2: 0 numSV: 0\\\\n\\\\t :: lon: 0 lat: 0 height: 0 hMSL: 0 hAcc,vAcc: 0,0\\\\n\\\\t :: velN: 0 velE: 0 velD: 0 gSpeed: 0 headMot: 0 sAcc: 0 headAcc: 0\\\\n\\\\t :: pDOP: 0 headVeh: 0\",\\n    \"ubxMsgBytes\": \"tWIBB1wAaOK7DeQHBBUPOzsHAAAAAAAAAAAAAAAAAAAAAAAAAAAAAAAAAAAAAAAAAAAAAAAAAAAAAAAAAAAAAAAAAAAAAAAAAAAAAAAAAAAAAAAAAAAAAAAAAAAAAAAAAAAG9g==\"\\n   },\\n   {\\n    \"syncEvent\": \"eSYNC_EVENT_INTERNAL_GNSS\",\\n    \"localTimeInTicks\": \"5121852416000\",\\n    \"globalTime\": {\\n     \"timeType\": \"eTIME_TYPE_GPS\"\\n    },\\n    \"NmeaString\": \"@UBX BIN::hdr: 0xb5 62 class: 0x1 id: 0x20 length: 16\\\\n\\\\t ::   GPS:: iTOW: 230418000 fTOW: 0 week: 2102 leapS: 18 valid: 7 tACC: 0\",\\n    \"ubxMsgBytes\": \"tWIBIBAAUOa7DQAAAAA2CBIHAAAAAIZo\"\\n   },\\n   {\\n    \"syncEvent\": \"eSYNC_EVENT_INTERNAL_GNSS\",\\n    \"localTimeInTicks\": \"5121852928000\",\\n    \"globalTime\": {\\n     \"timeType\": \"eTIME_TYPE_GPS\"\\n    },\\n    \"NmeaString\": \"@UBX BIN::hdr: 0xb5 62 class: 0x1 id: 0x20 length: 16\\\\n\\\\t ::   GPS:: iTOW: 230419000 fTOW: 0 week: 2102 leapS: 18 valid: 7 tACC: 0\",\\n    \"ubxMsgBytes\": \"tWIBIBAAOOq7DQAAAAA2CBIHAAAAAHIk\"\\n   },\\n   {\\n    \"syncEvent\": \"eSYNC_EVENT_INTERNAL_GNSS\",\\n    \"localTimeInTicks\": \"5121853440000\",\\n    \"globalTime\": {\\n     \"timeType\": \"eTIME_TYPE_GPS\"\\n    },\\n    \"NmeaString\": \"@UBX BIN::hdr: 0xb5 62 class: 0x1 id: 0x23 length: 20\\\\n\\\\t ::   GLO:: iTOW: 0 TOD: 68402 fTOD: 0 days: 112 N4: 7 valid: 15 tACC: 0\",\\n    \"ubxMsgBytes\": \"tWIBIxQAAAAAADILAQAAAAAAcAAHDwAAAAD8vQ==\"\\n   },\\n   {\\n    \"syncEvent\": \"eSYNC_EVENT_INTERNAL_GNSS\",\\n    \"localTimeInTicks\": \"5121853952000\",\\n    \"globalTime\": {\\n     \"timeType\": \"eTIME_TYPE_GPS\"\\n    },\\n    \"NmeaString\": \"@UBX BIN::hdr: 0xb5 62 class: 0x1 id: 0x7 length: 92\\\\n\\\\t ::   PVT:: iTOW: 230421000 year: 2020 month: 4 day: 21 hour: 16 min: 0 sec: 3\\\\n\\\\t :: valid: 7(valid  Date and  Time , fully resolved )\\\\n\\\\t :: tAcc: 0 nano: 0 fixType: 0 flags: 0() flags2: 0 numSV: 0\\\\n\\\\t :: lon: 0 lat: 0 height: 0 hMSL: 0 hAcc,vAcc: 0,0\\\\n\\\\t :: velN: 0 velE: 0 velD: 0 gSpeed: 0 headMot: 0 sAcc: 0 headAcc: 0\\\\n\\\\t :: pDOP: 0 headVeh: 0\",\\n    \"ubxMsgBytes\": \"tWIBB1wACPK7DeQHBBUQAAMHAAAAAAAAAAAAAAAAAAAAAAAAAAAAAAAAAAAAAAAAAAAAAAAAAAAAAAAAAAAAAAAAAAAAAAAAAAAAAAAAAAAAAAAAAAAAAAAAAAAAAAAAAABEaQ==\"\\n   },\\n   {\\n    \"syncEvent\": \"eSYNC_EVENT_INTERNAL_GNSS\",\\n    \"localTimeInTicks\": \"5121854464000\",\\n    \"globalTime\": {\\n     \"timeType\": \"eTIME_TYPE_GPS\"\\n    },\\n    \"NmeaString\": \"@UBX BIN::hdr: 0xb5 62 class: 0x1 id: 0x20 length: 16\\\\n\\\\t ::   GPS:: iTOW: 230422000 fTOW: 0 week: 2102 leapS: 18 valid: 7 tACC: 0\",\\n    \"ubxMsgBytes\": \"tWIBIBAA8PW7DQAAAAA2CBIHAAAAADVJ\"\\n   },\\n   {\\n    \"syncEvent\": \"eSYNC_EVENT_INTERNAL_GNSS\",\\n    \"localTimeInTicks\": \"5121854976000\",\\n    \"globalTime\": {\\n     \"timeType\": \"eTIME_TYPE_GPS\"\\n    },\\n    \"NmeaString\": \"@UBX BIN::hdr: 0xb5 62 class: 0x1 id: 0x20 length: 16\\\\n\\\\t ::   GPS:: iTOW: 230423000 fTOW: 0 week: 2102 leapS: 18 valid: 7 tACC: 0\",\\n    \"ubxMsgBytes\": \"tWIBIBAA2Pm7DQAAAAA2CBIHAAAAACEF\"\\n   },\\n   {\\n    \"syncEvent\": \"eSYNC_EVENT_OPTICAL_LINK\",\\n    \"localTimeInTicks\": \"5121890280000\",\\n    \"globalTime\": {\\n     \"tvSec\": \"1271520091\",\\n     \"tvNsec\": 953129000,\\n     \"timeType\": \"eTIME_TYPE_GPS\"\\n    },\\n    \"opticalSyncSource\": \"eNODE_TYPE_MOC\"\\n   },\\n   {\\n    \"syncEvent\": \"eSYNC_EVENT_OPTICAL_LINK\",\\n    \"localTimeInTicks\": \"5122889280000\",\\n    \"globalTime\": {\\n     \"tvSec\": \"1271522043\",\\n     \"tvNsec\": 125006000,\\n     \"timeType\": \"eTIME_TYPE_GPS\"\\n    },\\n    \"opticalSyncSource\": \"eNODE_TYPE_NEST_NODE\"\\n   }\\n  ]\\n },\\n \"loggerStatus\": {\\n  \"environment\": {\\n   \"temperatureMcuInDegreesCelsius\": 10,\\n   \"temperatureChargerInDegreesCelsius\": 13\\n  },\\n  \"timeSource\": {},\\n  \"position\": {\\n   \"measured\": {\\n    \"position\": {\\n     \"x\": 124811501,\\n     \"y\": 15601448,\\n     \"z\": 624070037\\n    },\\n    \"horizontalTechnique\": \"eRTK_FIXED\",\\n    \"horizontalDeviationInMeter\": 0.1,\\n    \"verticalTechnique\": \"eRTK_FIXED\",\\n    \"verticalDeviationInMeter\": 0.03,\\n    \"creator\": \"eCREATOR_MPTS\",\\n    \"injector\": {\\n     \"type\": \"eINJECTOR_MPTS\",\\n     \"instance\": 1,\\n     \"method\": \"eINJECTOR_METHOD_RFID\"\\n    }\\n   },\\n   \"planned\": {\\n    \"position\": {\\n     \"x\": 124811511,\\n     \"y\": 15601438,\\n     \"z\": 624070040\\n    },\\n    \"logicalPosition\": {\\n     \"line\": 1,\\n     \"point\": 1\\n    },\\n    \"creator\": \"eCREATOR_MPTS\"\\n   },\\n   \"final\": {\\n    \"position\": {\\n     \"x\": 124811512,\\n     \"y\": 15601440,\\n     \"z\": 624070043\\n    },\\n    \"productionQa\": \"ePROD_READY\",\\n    \"creator\": \"eCREATOR_MPTS\",\\n    \"injector\": {\\n     \"type\": \"eINJECTOR_MPTS\",\\n     \"instance\": 1,\\n     \"method\": \"eINJECTOR_METHOD_RFID\"\\n    }\\n   }\\n  },\\n  \"power\": {\\n   \"internal1V8InMilliVolt\": 1801,\\n   \"internal3V0InMilliVolt\": 3002,\\n   \"internal3V3InMilliVolt\": 2999,\\n   \"batteryVoltageInMilliVolt\": 1799\\n  },\\n  \"debug\": {\\n   \"nodeDebug\": {\\n    \"logLevel\": \"eLOG_LEVEL_INFO\"\\n   },\\n   \"communicationMode\": 1,\\n   \"temperature\": 2,\\n   \"loggerState\": 3,\\n   \"emmcTimeSyncBlocks\": 4,\\n   \"emmcTemperatureBlocks\": 5,\\n   \"emmcSeismicDataBlocks\": 6\\n  },\\n  \"sElemGroupStatus\": {},\\n  \"manufacturing\": {\\n   \"manufacturing\": {\\n    \"boardPartNum\": 1,\\n    \"bomRevision\": \"w2\",\\n    \"day\": 27,\\n    \"month\": 11,\\n    \"year\": 2018\\n   },\\n   \"revIdMicroController\": \"joda\",\\n   \"revIdeMMC\": \"morna\",\\n   \"revIdAdc\": \"hae!\"\\n  },\\n  \"systemResources\": {\\n   \"flashMemoryStatus\": {\\n    \"bytesProductionData\": \"5535000\"\\n   }\\n  },\\n  \"activation\": {}\\n },\\n \"nestBoardStatus\": {\\n  \"software\": {\\n   \"nestBoardSoftware\": {\\n    \"build\": {\\n     \"name\": \"eLOGGER_APPLICATION\",\\n     \"swState\": \"eVALID\"\\n    },\\n    \"packageVersion\": {\\n     \"name\": \"willoch\",\\n     \"version\": \"was\"\\n    }\\n   },\\n   \"loggerSoftware\": {\\n    \"build\": {\\n     \"name\": \"eLOGGER_APPLICATION\",\\n     \"swState\": \"eVALID\"\\n    },\\n    \"packageVersion\": {\\n     \"name\": \"willoch\",\\n     \"version\": \"was\"\\n    }\\n   }\\n  },\\n  \"environment\": {\\n   \"temperatureMcuInDegreesCelsius\": 15\\n  },\\n  \"dataSubscription\": {},\\n  \"power\": {\\n   \"internal3V3InMilliVolt\": 3311,\\n   \"internal5V0InMilliVolt\": 5003,\\n   \"internal5V0CurrentInMilliAmpere\": 987,\\n   \"chargerCurrentInMilliAmpere\": 999,\\n   \"chargingEnabled\": true\\n  },\\n  \"debug\": {},\\n  \"communication\": {},\\n  \"manufacturing\": {\\n   \"boardPartNum\": 1,\\n   \"bomRevision\": \"w2\",\\n   \"day\": 27,\\n   \"month\": 11,\\n   \"year\": 2018\\n  },\\n  \"offload\": {}\\n },\\n \"calibBoardStatus\": {},\\n \"fileUploadBlocks\": [\\n  {\\n   \"nodeType\": \"eNODE_TYPE_SU_NODE\",\\n   \"serialNumber\": {\\n    \"serialNumber\": \"10001\"\\n   },\\n   \"fileType\": \"eLOGGER_CALIB_PARAMETERS\",\\n   \"totalBlocks\": \"1\",\\n   \"loggerSElemCalibParameters\": {\\n    \"gain\": 6,\\n    \"resonantFrequency\": 111,\\n    \"dampingFactor\": 2,\\n    \"time\": {\\n     \"seconds\": \"1273245556\",\\n     \"timeType\": \"eTIME_TYPE_GPS\"\\n    }\\n   }\\n  }\\n ]\\n}\\n  \\n'"
     },
     "execution_count": 238,
     "metadata": {},
     "output_type": "execute_result"
    }
   ],
   "source": [
    "\n",
    "fp = open(smpl_file, 'rb')\n",
    "fp.seek((general_header1['n_additional_blocks'] + 1) * 32 +\n",
    "        general_header1['n_channel_sets_per_scan_type'] * 96)\n",
    "\n",
    "test = fp.read(general_header2['extended_header_blocks'] * 32)\n",
    "\n",
    "fp.close()\n",
    "test"
   ],
   "metadata": {
    "collapsed": false,
    "pycharm": {
     "name": "#%%\n"
    }
   }
  },
  {
   "cell_type": "markdown",
   "source": [
    "# Data"
   ],
   "metadata": {
    "collapsed": false,
    "pycharm": {
     "name": "#%% md\n"
    }
   }
  },
  {
   "cell_type": "code",
   "execution_count": 239,
   "outputs": [
    {
     "data": {
      "text/plain": "b\"\\xff\\xff\\x01\\x01\\x00\\x01\\x00\\x00\\x00\\x0b\\x00\\x00\\x00\\x00\\x00\\x00\\x00\\x00'\\x12\""
     },
     "execution_count": 239,
     "metadata": {},
     "output_type": "execute_result"
    }
   ],
   "source": [
    "fp = open(smpl_file, 'rb')\n",
    "fp.seek((general_header1['n_additional_blocks'] + 1) * 32 +\n",
    "        general_header1['n_channel_sets_per_scan_type'] * 96 +\n",
    "        general_header2['extended_header_blocks'] * 32)\n",
    "\n",
    "test = fp.read(20)\n",
    "\n",
    "fp.close()\n",
    "test"
   ],
   "metadata": {
    "collapsed": false,
    "pycharm": {
     "name": "#%%\n"
    }
   }
  },
  {
   "cell_type": "code",
   "execution_count": null,
   "outputs": [],
   "source": [
    "trace_header = dict()\n",
    "if _decode_bcd(test[0:2]) > 9999:\n",
    "    trace_header['file_number'] = '{0:0{1}x}'.format(buf_header1[0], 2) + '{0:0{1}x}'.format(buf_header1[1], 2)\n",
    "else:\n",
    "    trace_header['file_number'] = _decode_bcd(test[0:2])"
   ],
   "metadata": {
    "collapsed": false,
    "pycharm": {
     "name": "#%%\n"
    }
   }
  },
  {
   "cell_type": "code",
   "execution_count": 243,
   "outputs": [
    {
     "data": {
      "text/plain": "True"
     },
     "execution_count": 243,
     "metadata": {},
     "output_type": "execute_result"
    }
   ],
   "source": [
    "_decode_bcd(test[2:3])\n",
    "_decode_bcd(test[0:2]) > 9999"
   ],
   "metadata": {
    "collapsed": false,
    "pycharm": {
     "name": "#%%\n"
    }
   }
  },
  {
   "cell_type": "code",
   "execution_count": 245,
   "outputs": [
    {
     "data": {
      "text/plain": "255"
     },
     "execution_count": 245,
     "metadata": {},
     "output_type": "execute_result"
    }
   ],
   "source": [
    "test[1]"
   ],
   "metadata": {
    "collapsed": false,
    "pycharm": {
     "name": "#%%\n"
    }
   }
  },
  {
   "cell_type": "code",
   "execution_count": 129,
   "outputs": [
    {
     "data": {
      "text/plain": "128"
     },
     "execution_count": 129,
     "metadata": {},
     "output_type": "execute_result"
    }
   ],
   "source": [
    "(general_header1['n_additional_blocks'] + 1) * 32"
   ],
   "metadata": {
    "collapsed": false,
    "pycharm": {
     "name": "#%%\n"
    }
   }
  },
  {
   "cell_type": "code",
   "execution_count": 102,
   "outputs": [
    {
     "data": {
      "text/plain": "0"
     },
     "execution_count": 102,
     "metadata": {},
     "output_type": "execute_result"
    }
   ],
   "source": [
    "_decode_bin(buf_header2[12:16])"
   ],
   "metadata": {
    "collapsed": false,
    "pycharm": {
     "name": "#%%\n"
    }
   }
  },
  {
   "cell_type": "code",
   "execution_count": 60,
   "outputs": [
    {
     "data": {
      "text/plain": "False"
     },
     "execution_count": 60,
     "metadata": {},
     "output_type": "execute_result"
    }
   ],
   "source": [
    "_ehl = _decode_bcd(buf_header1[31:32])\n",
    "_ehl == 0xFF"
   ],
   "metadata": {
    "collapsed": false,
    "pycharm": {
     "name": "#%%\n"
    }
   }
  },
  {
   "cell_type": "code",
   "execution_count": 62,
   "outputs": [
    {
     "data": {
      "text/plain": "True"
     },
     "execution_count": 62,
     "metadata": {},
     "output_type": "execute_result"
    }
   ],
   "source": [
    "buf_header1[1] == 0xFF"
   ],
   "metadata": {
    "collapsed": false,
    "pycharm": {
     "name": "#%%\n"
    }
   }
  },
  {
   "cell_type": "code",
   "execution_count": 48,
   "outputs": [],
   "source": [
    "_bsi /= 10."
   ],
   "metadata": {
    "collapsed": false,
    "pycharm": {
     "name": "#%%\n"
    }
   }
  },
  {
   "cell_type": "code",
   "execution_count": 52,
   "outputs": [],
   "source": [
    "_bsi\n",
    "_rec_type, _rec_len = _bcd(buf_header1[25])"
   ],
   "metadata": {
    "collapsed": false,
    "pycharm": {
     "name": "#%%\n"
    }
   }
  },
  {
   "cell_type": "code",
   "execution_count": 53,
   "outputs": [
    {
     "data": {
      "text/plain": "1"
     },
     "execution_count": 53,
     "metadata": {},
     "output_type": "execute_result"
    }
   ],
   "source": [
    "_rec_type"
   ],
   "metadata": {
    "collapsed": false,
    "pycharm": {
     "name": "#%%\n"
    }
   }
  },
  {
   "cell_type": "code",
   "execution_count": 54,
   "outputs": [
    {
     "data": {
      "text/plain": "15"
     },
     "execution_count": 54,
     "metadata": {},
     "output_type": "execute_result"
    }
   ],
   "source": [
    "_rec_len"
   ],
   "metadata": {
    "collapsed": false,
    "pycharm": {
     "name": "#%%\n"
    }
   }
  },
  {
   "cell_type": "code",
   "execution_count": 18,
   "outputs": [
    {
     "data": {
      "text/plain": "255"
     },
     "execution_count": 18,
     "metadata": {},
     "output_type": "execute_result"
    }
   ],
   "source": [
    "# buf_header1[0:2]\n",
    "buf_header1[0]"
   ],
   "metadata": {
    "collapsed": false,
    "pycharm": {
     "name": "#%%\n"
    }
   }
  },
  {
   "cell_type": "code",
   "execution_count": 26,
   "outputs": [
    {
     "data": {
      "text/plain": "'ffff'"
     },
     "execution_count": 26,
     "metadata": {},
     "output_type": "execute_result"
    }
   ],
   "source": [
    "a = '{0:0{1}x}'.format(buf_header1[0], 2) + '{0:0{1}x}'.format(buf_header1[1], 2)\n",
    "# '{0:0{1}x}'.format(buf_header1[1], 2)\n",
    "a"
   ],
   "metadata": {
    "collapsed": false,
    "pycharm": {
     "name": "#%%\n"
    }
   }
  }
 ],
 "metadata": {
  "kernelspec": {
   "display_name": "Python 3",
   "language": "python",
   "name": "python3"
  },
  "language_info": {
   "codemirror_mode": {
    "name": "ipython",
    "version": 2
   },
   "file_extension": ".py",
   "mimetype": "text/x-python",
   "name": "python",
   "nbconvert_exporter": "python",
   "pygments_lexer": "ipython2",
   "version": "2.7.6"
  }
 },
 "nbformat": 4,
 "nbformat_minor": 0
}