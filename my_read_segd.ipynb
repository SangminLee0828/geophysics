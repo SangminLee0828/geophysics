{
 "cells": [
  {
   "cell_type": "code",
   "execution_count": 35,
   "metadata": {
    "collapsed": true
   },
   "outputs": [
    {
     "name": "stdout",
     "output_type": "stream",
     "text": [
      "Previous matplotlib backend: Qt5Agg\n",
      "Current matplotlib backend: Qt5Agg\n"
     ]
    }
   ],
   "source": [
    "import obspy\n",
    "import struct\n",
    "import numpy as np\n",
    "import math\n",
    "import array\n",
    "import matplotlib\n",
    "import matplotlib.pyplot as plt\n",
    "from pathlib import Path\n",
    "print('Previous matplotlib backend: ' + matplotlib.get_backend())\n",
    "%matplotlib qt5\n",
    "print('Current matplotlib backend: ' + matplotlib.get_backend())\n",
    "\n",
    "\n",
    "def _bcd(byte):\n",
    "    \"\"\"Decode 1-byte binary code decimals.\"\"\"\n",
    "\n",
    "    if isinstance(byte, str):\n",
    "        try:\n",
    "            byte = ord(byte)\n",
    "        except TypeError:\n",
    "            raise ValueError('not a byte')\n",
    "    elif isinstance(byte, int):\n",
    "        if byte > 255:\n",
    "            raise ValueError('not a byte')\n",
    "\n",
    "    else:\n",
    "        raise ValueError('not a byte')\n",
    "    v1 = byte >> 4\n",
    "    v2 = byte & 0xF\n",
    "    return v1, v2\n",
    "\n",
    "def _decode_bcd(bytes_in):\n",
    "    \"\"\"Decode arbitrary length binary code decimals.\"\"\"\n",
    "    v = 0\n",
    "    if isinstance(bytes_in, int):\n",
    "        bytes_in = bytes([bytes_in])\n",
    "        disp('bytes in')\n",
    "    n = len(bytes_in)\n",
    "    n = n*2 - 1  # 2 values per byte\n",
    "    for byte in bytes_in:\n",
    "        v1, v2 = _bcd(byte)\n",
    "        v += v1*10**n + v2*10**(n-1)\n",
    "        n -= 2\n",
    "    return v\n",
    "\n",
    "def _decode_bin(bytes_in):\n",
    "    \"\"\"Decode unsigned ints.\"\"\"\n",
    "    if isinstance(bytes_in, int):\n",
    "        bytes_in = bytes([bytes_in])\n",
    "    ll = len(bytes_in)\n",
    "    # zero-pad to 4 bytes\n",
    "    b = (chr(0)*(4-ll)).encode()\n",
    "    b += bytes_in\n",
    "    return struct.unpack('>I', b)[0]\n",
    "\n",
    "def _decode_flt(bytes_in):\n",
    "    \"\"\"Decode single-precision floats.\"\"\"\n",
    "    if isinstance(bytes_in, int):\n",
    "        bytes_in = bytes([bytes_in])\n",
    "    ll = len(bytes_in)\n",
    "    # zero-pad to 4 bytes\n",
    "    b = (chr(0)*(4-ll)).encode()\n",
    "    b += bytes_in\n",
    "    f = struct.unpack('>f', b)[0]\n",
    "    if math.isnan(f):\n",
    "        f = None\n",
    "    return f\n",
    "\n",
    "def _decode_fraction(bytes_in):\n",
    "    \"\"\"Decode positive binary fractions.\"\"\"\n",
    "    bytes_ord = bytes_in\n",
    "    bit = ''.join('{:08b}'.format(b) for b in bytes_ord)\n",
    "    return sum(int(x) * 2**-n for n, x in enumerate(bit, 1))"
   ]
  },
  {
   "cell_type": "code",
   "execution_count": 100,
   "outputs": [],
   "source": [
    "smpl_file = '.\\data\\STRYDE_SEGDv3_Read_Pack_v1.4continuous_data_example_1trace.rsamp'\n",
    "# smpl_file = \".\\data\\7.166_15_00_00_SN_2300202892_0.rsamp.segd\"\n",
    "smpl_file = Path(r'data\\7.166_15_00_00_SN_2300202892_0.rsamp.segd')\n",
    "# smpl_file = Path(r'data\\STRYDE_SEGDv3_Read_Pack_v1.4continuous_data_example_1trace.rsamp')\n",
    "# with open(smpl_file, mode='rb') as file: # b is important -> binary\n",
    "#     fileContent = file.read()\n"
   ],
   "metadata": {
    "collapsed": false,
    "pycharm": {
     "name": "#%%\n"
    }
   }
  },
  {
   "cell_type": "code",
   "execution_count": 101,
   "outputs": [],
   "source": [
    "fp = open(smpl_file, 'rb')\n",
    "buf_header1 = fp.read(32)\n",
    "buf_header2 = fp.read(32)\n",
    "buf_header3 = fp.read(32)\n",
    "fp.close()"
   ],
   "metadata": {
    "collapsed": false,
    "pycharm": {
     "name": "#%%\n"
    }
   }
  },
  {
   "cell_type": "code",
   "execution_count": 102,
   "outputs": [],
   "source": [
    "general_header1 = dict()\n",
    "if _decode_bcd(buf_header1[0:2]) > 9999:\n",
    "    general_header1['file number'] = '{0:0{1}x}'.format(buf_header1[0], 2) + '{0:0{1}x}'.format(buf_header1[1], 2)\n",
    "else:\n",
    "    general_header1['file number'] = _decode_bcd(buf_header1[0:2])\n",
    "\n",
    "general_header1['format code'] = _decode_bcd(buf_header1[2:4])\n",
    "\n",
    "_year = _decode_bcd(buf_header1[10:11]) + 2000\n",
    "_nblocks, _jday = _bcd(buf_header1[11])\n",
    "general_header1['n_additional_blocks'] = _nblocks   # important\n",
    "_jday *= 100\n",
    "_jday += _decode_bcd(buf_header1[12:13])\n",
    "_hour = _decode_bcd(buf_header1[13:14])\n",
    "_min = _decode_bcd(buf_header1[14:15])\n",
    "_sec = _decode_bcd(buf_header1[15:16])\n",
    "general_header1['time'] = obspy.UTCDateTime(year=_year, julday=_jday,\n",
    "                               hour=_hour, minute=_min, second=_sec)\n",
    "\n",
    "# 여기 사이에 추가로 더 들어가야 함.\n",
    "general_header1['scan_type_per_record'] = _decode_bcd(buf_header1[27:28])\n",
    "general_header1['n_channel_sets_per_scan_type'] = _decode_bcd(buf_header1[28:29])\n",
    "general_header1['n_sample_skew_32bit_extensions'] = _decode_bcd(buf_header1[29:30])\n",
    "if _decode_bcd(buf_header1[30:31]) > 99:\n",
    "    general_header1['extended_header_length'] = 'ff'\n",
    "else:\n",
    "    general_header1['extended_header_length'] = _decode_bcd(buf_header1[30:31])\n",
    "general_header1['external_header_length'] = _decode_bcd(buf_header1[31:32])\n",
    "\n"
   ],
   "metadata": {
    "collapsed": false,
    "pycharm": {
     "name": "#%%\n"
    }
   }
  },
  {
   "cell_type": "code",
   "execution_count": 103,
   "outputs": [
    {
     "data": {
      "text/plain": "{'file number': 'ffff',\n 'format code': 8036,\n 'n_additional_blocks': 2,\n 'time': 2021-08-17T15:00:00.000000Z,\n 'scan_type_per_record': 1,\n 'n_channel_sets_per_scan_type': 5,\n 'n_sample_skew_32bit_extensions': 0,\n 'extended_header_length': 'ff',\n 'external_header_length': 0}"
     },
     "execution_count": 103,
     "metadata": {},
     "output_type": "execute_result"
    }
   ],
   "source": [
    "general_header1"
   ],
   "metadata": {
    "collapsed": false,
    "pycharm": {
     "name": "#%%\n"
    }
   }
  },
  {
   "cell_type": "code",
   "execution_count": 104,
   "outputs": [],
   "source": [
    "# 이거는 거의 완성\n",
    "general_header2 = dict()\n",
    "\n",
    "general_header2['extended_file_number'] = _decode_bin(buf_header2[0:3])\n",
    "general_header2['extended_channel_sets_per_scan_types'] = _decode_bin(buf_header2[3:5])\n",
    "general_header2['extended_header_blocks'] = _decode_bin(buf_header2[5:8])\n",
    "general_header2['external_header_blocks'] = _decode_bin(buf_header2[8:10]) # or extended skew blocks\n",
    "\n",
    "_rev = ord(buf_header2[10:11])\n",
    "_rev += ord(buf_header2[11:12])/10.\n",
    "general_header2['segd_revision_number'] = _rev\n",
    "general_header2['no_blocks_of_general_trailer'] = _decode_bin(buf_header2[12:16])\n",
    "general_header2['extended_record_length_in_ms'] = _decode_bin(buf_header2[16:20])\n",
    "general_header2['record_set_number'] = _decode_bin(buf_header2[20:22])\n",
    "general_header2['n_extended_additional_blocks'] = _decode_bin(buf_header2[22:24])\n",
    "general_header2['dominant_sampling_interval_in_us'] = _decode_bin(buf_header2[24:27])\n",
    "general_header2['external_header_blocks'] = _decode_bin(buf_header2[27:30])\n",
    "general_header2['header_block_type'] = _decode_bin(buf_header2[31:32])"
   ],
   "metadata": {
    "collapsed": false,
    "pycharm": {
     "name": "#%%\n"
    }
   }
  },
  {
   "cell_type": "code",
   "execution_count": 105,
   "outputs": [
    {
     "data": {
      "text/plain": "{'extended_file_number': 10003,\n 'extended_channel_sets_per_scan_types': 5,\n 'extended_header_blocks': 839,\n 'external_header_blocks': 0,\n 'segd_revision_number': 3.0,\n 'no_blocks_of_general_trailer': 0,\n 'extended_record_length_in_ms': 3688000000,\n 'record_set_number': 0,\n 'n_extended_additional_blocks': 2,\n 'dominant_sampling_interval_in_us': 2000,\n 'header_block_type': 2}"
     },
     "execution_count": 105,
     "metadata": {},
     "output_type": "execute_result"
    }
   ],
   "source": [
    "general_header2"
   ],
   "metadata": {
    "collapsed": false,
    "pycharm": {
     "name": "#%%\n"
    }
   }
  },
  {
   "cell_type": "code",
   "execution_count": 106,
   "outputs": [],
   "source": [
    "# channel import\n",
    "\n",
    "buf_channel = []\n",
    "fp = open(smpl_file, 'rb')\n",
    "fp.seek((general_header1['n_additional_blocks'] + 1) * 32)\n",
    "for i in range(general_header1['n_channel_sets_per_scan_type']):\n",
    "    # buf_channel[str(i+1)] = fp.read(96)\n",
    "    buf_channel.append(fp.read(96))\n",
    "\n",
    "fp.close()"
   ],
   "metadata": {
    "collapsed": false,
    "pycharm": {
     "name": "#%%\n"
    }
   }
  },
  {
   "cell_type": "code",
   "execution_count": 107,
   "outputs": [],
   "source": [
    "def read_channel_set_header(buf_channel):\n",
    "    ls_channel_set_header = []\n",
    "\n",
    "    for item in buf_channel:\n",
    "        channel = dict()\n",
    "        channel['scan_type'] = _decode_bcd(item[0:1])\n",
    "        channel['channel_set_number'] = _decode_bin(item[1:3])\n",
    "        channel['channel_type_identification'] = '{0:0{1}x}'.format(item[3], 2)   # hex\n",
    "        channel['channel_set_start_time'] = _decode_bcd(item[4:8])\n",
    "        channel['channel_set_end_time'] = _decode_bcd(item[8:12])\n",
    "        channel['n_samples_in_each_trac_of_this_channel_set'] = _decode_bin(item[12:16])\n",
    "        channel['sample_descale_multiplication_factor'] = round(_decode_flt(item[16:20]), 5) # Careful this\n",
    "        channel['n_channels_in_this_channel_set'] = _decode_bin(item[20:23])\n",
    "        channel['sampling_interval_in_us'] = _decode_bin(item[23:26])\n",
    "        ls_channel_set_header.append(channel)\n",
    "\n",
    "    return ls_channel_set_header"
   ],
   "metadata": {
    "collapsed": false,
    "pycharm": {
     "name": "#%%\n"
    }
   }
  },
  {
   "cell_type": "code",
   "execution_count": 108,
   "outputs": [],
   "source": [
    "ls_channel_set_header = read_channel_set_header(buf_channel)"
   ],
   "metadata": {
    "collapsed": false,
    "pycharm": {
     "name": "#%%\n"
    }
   }
  },
  {
   "cell_type": "markdown",
   "source": [
    "# Extended header"
   ],
   "metadata": {
    "collapsed": false,
    "pycharm": {
     "name": "#%% md\n"
    }
   }
  },
  {
   "cell_type": "code",
   "execution_count": 88,
   "outputs": [
    {
     "data": {
      "text/plain": "b'{\\n \"sync\": {\\n  \"syncEventInfo\": [\\n   {\\n    \"syncEvent\": \"eSYNC_EVENT_OPTICAL_LINK\",\\n    \"localTimeInTicks\": \"5119000000000\",\\n    \"globalTime\": {\\n     \"tvSec\": \"1271514446\",\\n     \"tvNsec\": 875002000,\\n     \"timeType\": \"eTIME_TYPE_GPS\"\\n    },\\n    \"opticalSyncSource\": \"eNODE_TYPE_NEST_NODE\"\\n   },\\n   {\\n    \"syncEvent\": \"eSYNC_EVENT_OPTICAL_LINK\",\\n    \"localTimeInTicks\": \"5119999000000\",\\n    \"globalTime\": {\\n     \"tvSec\": \"1271516398\",\\n     \"tvNsec\": 46873000,\\n     \"timeType\": \"eTIME_TYPE_GPS\"\\n    },\\n    \"opticalSyncSource\": \"eNODE_TYPE_MOC\"\\n   },\\n   {\\n    \"syncEvent\": \"eSYNC_EVENT_INTERNAL_GNSS\",\\n    \"localTimeInTicks\": \"5120003584000\",\\n    \"globalTime\": {\\n     \"timeType\": \"eTIME_TYPE_GPS\"\\n    },\\n    \"NmeaString\": \"@UBX BIN::hdr: 0xb5 62 class: 0x1 id: 0x20 length: 16\\\\n\\\\t ::   GPS:: iTOW: 226807000 fTOW: 0 week: 2102 leapS: 18 valid: 7 tACC: 0\",\\n    \"ubxMsgBytes\": \"tWIBIBAA2MyEDQAAAAA2CBIHAAAAAL1g\"\\n   },\\n   {\\n    \"syncEvent\": \"eSYNC_EVENT_INTERNAL_GNSS\",\\n    \"localTimeInTicks\": \"5120925696000\",\\n    \"globalTime\": {\\n     \"timeType\": \"eTIME_TYPE_GPS\"\\n    },\\n    \"NmeaString\": \"@UBX BIN::hdr: 0xb5 62 class: 0x1 id: 0x23 length: 20\\\\n\\\\t ::   GLO:: iTOW: 0 TOD: 66590 fTOD: 0 days: 112 N4: 7 valid: 15 tACC: 0\",\\n    \"ubxMsgBytes\": \"tWIBIxQAAAAAAB4EAQAAAAAAcAAHDwAAAADhFA==\"\\n   },\\n   {\\n    \"syncEvent\": \"eSYNC_EVENT_INTERNAL_GNSS\",\\n    \"localTimeInTicks\": \"5120926208000\",\\n    \"globalTime\": {\\n     \"timeType\": \"eTIME_TYPE_GPS\"\\n    },\\n    \"NmeaString\": \"@UBX BIN::hdr: 0xb5 62 class: 0x1 id: 0x7 length: 92\\\\n\\\\t ::   PVT:: iTOW: 228609000 year: 2020 month: 4 day: 21 hour: 15 min: 29 sec: 51\\\\n\\\\t :: valid: 7(valid  Date and  Time , fully resolved )\\\\n\\\\t :: tAcc: 0 nano: 0 fixType: 0 flags: 0() flags2: 0 numSV: 0\\\\n\\\\t :: lon: 0 lat: 0 height: 0 hMSL: 0 hAcc,vAcc: 0,0\\\\n\\\\t :: velN: 0 velE: 0 velD: 0 gSpeed: 0 headMot: 0 sAcc: 0 headAcc: 0\\\\n\\\\t :: pDOP: 0 headVeh: 0\",\\n    \"ubxMsgBytes\": \"tWIBB1wA6EugDeQHBBUPHTMHAAAAAAAAAAAAAAAAAAAAAAAAAAAAAAAAAAAAAAAAAAAAAAAAAAAAAAAAAAAAAAAAAAAAAAAAAAAAAAAAAAAAAAAAAAAAAAAAAAAAAAAAAACugQ==\"\\n   },\\n   {\\n    \"syncEvent\": \"eSYNC_EVENT_INTERNAL_GNSS\",\\n    \"localTimeInTicks\": \"5120926720000\",\\n    \"globalTime\": {\\n     \"timeType\": \"eTIME_TYPE_GPS\"\\n    },\\n    \"NmeaString\": \"@UBX BIN::hdr: 0xb5 62 class: 0x1 id: 0x20 length: 16\\\\n\\\\t ::   GPS:: iTOW: 228610000 fTOW: 0 week: 2102 leapS: 18 valid: 7 tACC: 0\",\\n    \"ubxMsgBytes\": \"tWIBIBAA0E+gDQAAAAA2CBIHAAAAAFQV\"\\n   },\\n   {\\n    \"syncEvent\": \"eSYNC_EVENT_INTERNAL_GNSS\",\\n    \"localTimeInTicks\": \"5120927232000\",\\n    \"globalTime\": {\\n     \"timeType\": \"eTIME_TYPE_GPS\"\\n    },\\n    \"NmeaString\": \"@UBX BIN::hdr: 0xb5 62 class: 0x1 id: 0x20 length: 16\\\\n\\\\t ::   GPS:: iTOW: 228611000 fTOW: 0 week: 2102 leapS: 18 valid: 7 tACC: 0\",\\n    \"ubxMsgBytes\": \"tWIBIBAAuFOgDQAAAAA2CBIHAAAAAEDR\"\\n   },\\n   {\\n    \"syncEvent\": \"eSYNC_EVENT_INTERNAL_GNSS\",\\n    \"localTimeInTicks\": \"5120927744000\",\\n    \"globalTime\": {\\n     \"timeType\": \"eTIME_TYPE_GPS\"\\n    },\\n    \"NmeaString\": \"@UBX BIN::hdr: 0xb5 62 class: 0x1 id: 0x23 length: 20\\\\n\\\\t ::   GLO:: iTOW: 0 TOD: 66594 fTOD: 0 days: 112 N4: 7 valid: 15 tACC: 0\",\\n    \"ubxMsgBytes\": \"tWIBIxQAAAAAACIEAQAAAAAAcAAHDwAAAADlVA==\"\\n   },\\n   {\\n    \"syncEvent\": \"eSYNC_EVENT_INTERNAL_GNSS\",\\n    \"localTimeInTicks\": \"5120928256000\",\\n    \"globalTime\": {\\n     \"timeType\": \"eTIME_TYPE_GPS\"\\n    },\\n    \"NmeaString\": \"@UBX BIN::hdr: 0xb5 62 class: 0x1 id: 0x7 length: 92\\\\n\\\\t ::   PVT:: iTOW: 228613000 year: 2020 month: 4 day: 21 hour: 15 min: 29 sec: 55\\\\n\\\\t :: valid: 7(valid  Date and  Time , fully resolved )\\\\n\\\\t :: tAcc: 0 nano: 0 fixType: 0 flags: 0() flags2: 0 numSV: 0\\\\n\\\\t :: lon: 0 lat: 0 height: 0 hMSL: 0 hAcc,vAcc: 0,0\\\\n\\\\t :: velN: 0 velE: 0 velD: 0 gSpeed: 0 headMot: 0 sAcc: 0 headAcc: 0\\\\n\\\\t :: pDOP: 0 headVeh: 0\",\\n    \"ubxMsgBytes\": \"tWIBB1wAiFugDeQHBBUPHTcHAAAAAAAAAAAAAAAAAAAAAAAAAAAAAAAAAAAAAAAAAAAAAAAAAAAAAAAAAAAAAAAAAAAAAAAAAAAAAAAAAAAAAAAAAAAAAAAAAAAAAAAAAABi+Q==\"\\n   },\\n   {\\n    \"syncEvent\": \"eSYNC_EVENT_INTERNAL_GNSS\",\\n    \"localTimeInTicks\": \"5120928768000\",\\n    \"globalTime\": {\\n     \"timeType\": \"eTIME_TYPE_GPS\"\\n    },\\n    \"NmeaString\": \"@UBX BIN::hdr: 0xb5 62 class: 0x1 id: 0x20 length: 16\\\\n\\\\t ::   GPS:: iTOW: 228614000 fTOW: 0 week: 2102 leapS: 18 valid: 7 tACC: 0\",\\n    \"ubxMsgBytes\": \"tWIBIBAAcF+gDQAAAAA2CBIHAAAAAAQF\"\\n   },\\n   {\\n    \"syncEvent\": \"eSYNC_EVENT_INTERNAL_GNSS\",\\n    \"localTimeInTicks\": \"5120929280000\",\\n    \"globalTime\": {\\n     \"timeType\": \"eTIME_TYPE_GPS\"\\n    },\\n    \"NmeaString\": \"@UBX BIN::hdr: 0xb5 62 class: 0x1 id: 0x20 length: 16\\\\n\\\\t ::   GPS:: iTOW: 228615000 fTOW: 0 week: 2102 leapS: 18 valid: 7 tACC: 0\",\\n    \"ubxMsgBytes\": \"tWIBIBAAWGOgDQAAAAA2CBIHAAAAAPDB\"\\n   },\\n   {\\n    \"syncEvent\": \"eSYNC_EVENT_INTERNAL_GNSS\",\\n    \"localTimeInTicks\": \"5121851392000\",\\n    \"globalTime\": {\\n     \"timeType\": \"eTIME_TYPE_GPS\"\\n    },\\n    \"NmeaString\": \"@UBX BIN::hdr: 0xb5 62 class: 0x1 id: 0x23 length: 20\\\\n\\\\t ::   GLO:: iTOW: 0 TOD: 68398 fTOD: 0 days: 112 N4: 7 valid: 15 tACC: 0\",\\n    \"ubxMsgBytes\": \"tWIBIxQAAAAAAC4LAQAAAAAAcAAHDwAAAAD4fQ==\"\\n   },\\n   {\\n    \"syncEvent\": \"eSYNC_EVENT_INTERNAL_GNSS\",\\n    \"localTimeInTicks\": \"5121851904000\",\\n    \"globalTime\": {\\n     \"timeType\": \"eTIME_TYPE_GPS\"\\n    },\\n    \"NmeaString\": \"@UBX BIN::hdr: 0xb5 62 class: 0x1 id: 0x7 length: 92\\\\n\\\\t ::   PVT:: iTOW: 230417000 year: 2020 month: 4 day: 21 hour: 15 min: 59 sec: 59\\\\n\\\\t :: valid: 7(valid  Date and  Time , fully resolved )\\\\n\\\\t :: tAcc: 0 nano: 0 fixType: 0 flags: 0() flags2: 0 numSV: 0\\\\n\\\\t :: lon: 0 lat: 0 height: 0 hMSL: 0 hAcc,vAcc: 0,0\\\\n\\\\t :: velN: 0 velE: 0 velD: 0 gSpeed: 0 headMot: 0 sAcc: 0 headAcc: 0\\\\n\\\\t :: pDOP: 0 headVeh: 0\",\\n    \"ubxMsgBytes\": \"tWIBB1wAaOK7DeQHBBUPOzsHAAAAAAAAAAAAAAAAAAAAAAAAAAAAAAAAAAAAAAAAAAAAAAAAAAAAAAAAAAAAAAAAAAAAAAAAAAAAAAAAAAAAAAAAAAAAAAAAAAAAAAAAAAAG9g==\"\\n   },\\n   {\\n    \"syncEvent\": \"eSYNC_EVENT_INTERNAL_GNSS\",\\n    \"localTimeInTicks\": \"5121852416000\",\\n    \"globalTime\": {\\n     \"timeType\": \"eTIME_TYPE_GPS\"\\n    },\\n    \"NmeaString\": \"@UBX BIN::hdr: 0xb5 62 class: 0x1 id: 0x20 length: 16\\\\n\\\\t ::   GPS:: iTOW: 230418000 fTOW: 0 week: 2102 leapS: 18 valid: 7 tACC: 0\",\\n    \"ubxMsgBytes\": \"tWIBIBAAUOa7DQAAAAA2CBIHAAAAAIZo\"\\n   },\\n   {\\n    \"syncEvent\": \"eSYNC_EVENT_INTERNAL_GNSS\",\\n    \"localTimeInTicks\": \"5121852928000\",\\n    \"globalTime\": {\\n     \"timeType\": \"eTIME_TYPE_GPS\"\\n    },\\n    \"NmeaString\": \"@UBX BIN::hdr: 0xb5 62 class: 0x1 id: 0x20 length: 16\\\\n\\\\t ::   GPS:: iTOW: 230419000 fTOW: 0 week: 2102 leapS: 18 valid: 7 tACC: 0\",\\n    \"ubxMsgBytes\": \"tWIBIBAAOOq7DQAAAAA2CBIHAAAAAHIk\"\\n   },\\n   {\\n    \"syncEvent\": \"eSYNC_EVENT_INTERNAL_GNSS\",\\n    \"localTimeInTicks\": \"5121853440000\",\\n    \"globalTime\": {\\n     \"timeType\": \"eTIME_TYPE_GPS\"\\n    },\\n    \"NmeaString\": \"@UBX BIN::hdr: 0xb5 62 class: 0x1 id: 0x23 length: 20\\\\n\\\\t ::   GLO:: iTOW: 0 TOD: 68402 fTOD: 0 days: 112 N4: 7 valid: 15 tACC: 0\",\\n    \"ubxMsgBytes\": \"tWIBIxQAAAAAADILAQAAAAAAcAAHDwAAAAD8vQ==\"\\n   },\\n   {\\n    \"syncEvent\": \"eSYNC_EVENT_INTERNAL_GNSS\",\\n    \"localTimeInTicks\": \"5121853952000\",\\n    \"globalTime\": {\\n     \"timeType\": \"eTIME_TYPE_GPS\"\\n    },\\n    \"NmeaString\": \"@UBX BIN::hdr: 0xb5 62 class: 0x1 id: 0x7 length: 92\\\\n\\\\t ::   PVT:: iTOW: 230421000 year: 2020 month: 4 day: 21 hour: 16 min: 0 sec: 3\\\\n\\\\t :: valid: 7(valid  Date and  Time , fully resolved )\\\\n\\\\t :: tAcc: 0 nano: 0 fixType: 0 flags: 0() flags2: 0 numSV: 0\\\\n\\\\t :: lon: 0 lat: 0 height: 0 hMSL: 0 hAcc,vAcc: 0,0\\\\n\\\\t :: velN: 0 velE: 0 velD: 0 gSpeed: 0 headMot: 0 sAcc: 0 headAcc: 0\\\\n\\\\t :: pDOP: 0 headVeh: 0\",\\n    \"ubxMsgBytes\": \"tWIBB1wACPK7DeQHBBUQAAMHAAAAAAAAAAAAAAAAAAAAAAAAAAAAAAAAAAAAAAAAAAAAAAAAAAAAAAAAAAAAAAAAAAAAAAAAAAAAAAAAAAAAAAAAAAAAAAAAAAAAAAAAAABEaQ==\"\\n   },\\n   {\\n    \"syncEvent\": \"eSYNC_EVENT_INTERNAL_GNSS\",\\n    \"localTimeInTicks\": \"5121854464000\",\\n    \"globalTime\": {\\n     \"timeType\": \"eTIME_TYPE_GPS\"\\n    },\\n    \"NmeaString\": \"@UBX BIN::hdr: 0xb5 62 class: 0x1 id: 0x20 length: 16\\\\n\\\\t ::   GPS:: iTOW: 230422000 fTOW: 0 week: 2102 leapS: 18 valid: 7 tACC: 0\",\\n    \"ubxMsgBytes\": \"tWIBIBAA8PW7DQAAAAA2CBIHAAAAADVJ\"\\n   },\\n   {\\n    \"syncEvent\": \"eSYNC_EVENT_INTERNAL_GNSS\",\\n    \"localTimeInTicks\": \"5121854976000\",\\n    \"globalTime\": {\\n     \"timeType\": \"eTIME_TYPE_GPS\"\\n    },\\n    \"NmeaString\": \"@UBX BIN::hdr: 0xb5 62 class: 0x1 id: 0x20 length: 16\\\\n\\\\t ::   GPS:: iTOW: 230423000 fTOW: 0 week: 2102 leapS: 18 valid: 7 tACC: 0\",\\n    \"ubxMsgBytes\": \"tWIBIBAA2Pm7DQAAAAA2CBIHAAAAACEF\"\\n   },\\n   {\\n    \"syncEvent\": \"eSYNC_EVENT_OPTICAL_LINK\",\\n    \"localTimeInTicks\": \"5121890280000\",\\n    \"globalTime\": {\\n     \"tvSec\": \"1271520091\",\\n     \"tvNsec\": 953129000,\\n     \"timeType\": \"eTIME_TYPE_GPS\"\\n    },\\n    \"opticalSyncSource\": \"eNODE_TYPE_MOC\"\\n   },\\n   {\\n    \"syncEvent\": \"eSYNC_EVENT_OPTICAL_LINK\",\\n    \"localTimeInTicks\": \"5122889280000\",\\n    \"globalTime\": {\\n     \"tvSec\": \"1271522043\",\\n     \"tvNsec\": 125006000,\\n     \"timeType\": \"eTIME_TYPE_GPS\"\\n    },\\n    \"opticalSyncSource\": \"eNODE_TYPE_NEST_NODE\"\\n   }\\n  ]\\n },\\n \"loggerStatus\": {\\n  \"environment\": {\\n   \"temperatureMcuInDegreesCelsius\": 10,\\n   \"temperatureChargerInDegreesCelsius\": 13\\n  },\\n  \"timeSource\": {},\\n  \"position\": {\\n   \"measured\": {\\n    \"position\": {\\n     \"x\": 124811501,\\n     \"y\": 15601448,\\n     \"z\": 624070037\\n    },\\n    \"horizontalTechnique\": \"eRTK_FIXED\",\\n    \"horizontalDeviationInMeter\": 0.1,\\n    \"verticalTechnique\": \"eRTK_FIXED\",\\n    \"verticalDeviationInMeter\": 0.03,\\n    \"creator\": \"eCREATOR_MPTS\",\\n    \"injector\": {\\n     \"type\": \"eINJECTOR_MPTS\",\\n     \"instance\": 1,\\n     \"method\": \"eINJECTOR_METHOD_RFID\"\\n    }\\n   },\\n   \"planned\": {\\n    \"position\": {\\n     \"x\": 124811511,\\n     \"y\": 15601438,\\n     \"z\": 624070040\\n    },\\n    \"logicalPosition\": {\\n     \"line\": 1,\\n     \"point\": 1\\n    },\\n    \"creator\": \"eCREATOR_MPTS\"\\n   },\\n   \"final\": {\\n    \"position\": {\\n     \"x\": 124811512,\\n     \"y\": 15601440,\\n     \"z\": 624070043\\n    },\\n    \"productionQa\": \"ePROD_READY\",\\n    \"creator\": \"eCREATOR_MPTS\",\\n    \"injector\": {\\n     \"type\": \"eINJECTOR_MPTS\",\\n     \"instance\": 1,\\n     \"method\": \"eINJECTOR_METHOD_RFID\"\\n    }\\n   }\\n  },\\n  \"power\": {\\n   \"internal1V8InMilliVolt\": 1801,\\n   \"internal3V0InMilliVolt\": 3002,\\n   \"internal3V3InMilliVolt\": 2999,\\n   \"batteryVoltageInMilliVolt\": 1799\\n  },\\n  \"debug\": {\\n   \"nodeDebug\": {\\n    \"logLevel\": \"eLOG_LEVEL_INFO\"\\n   },\\n   \"communicationMode\": 1,\\n   \"temperature\": 2,\\n   \"loggerState\": 3,\\n   \"emmcTimeSyncBlocks\": 4,\\n   \"emmcTemperatureBlocks\": 5,\\n   \"emmcSeismicDataBlocks\": 6\\n  },\\n  \"sElemGroupStatus\": {},\\n  \"manufacturing\": {\\n   \"manufacturing\": {\\n    \"boardPartNum\": 1,\\n    \"bomRevision\": \"w2\",\\n    \"day\": 27,\\n    \"month\": 11,\\n    \"year\": 2018\\n   },\\n   \"revIdMicroController\": \"joda\",\\n   \"revIdeMMC\": \"morna\",\\n   \"revIdAdc\": \"hae!\"\\n  },\\n  \"systemResources\": {\\n   \"flashMemoryStatus\": {\\n    \"bytesProductionData\": \"5535000\"\\n   }\\n  },\\n  \"activation\": {}\\n },\\n \"nestBoardStatus\": {\\n  \"software\": {\\n   \"nestBoardSoftware\": {\\n    \"build\": {\\n     \"name\": \"eLOGGER_APPLICATION\",\\n     \"swState\": \"eVALID\"\\n    },\\n    \"packageVersion\": {\\n     \"name\": \"willoch\",\\n     \"version\": \"was\"\\n    }\\n   },\\n   \"loggerSoftware\": {\\n    \"build\": {\\n     \"name\": \"eLOGGER_APPLICATION\",\\n     \"swState\": \"eVALID\"\\n    },\\n    \"packageVersion\": {\\n     \"name\": \"willoch\",\\n     \"version\": \"was\"\\n    }\\n   }\\n  },\\n  \"environment\": {\\n   \"temperatureMcuInDegreesCelsius\": 15\\n  },\\n  \"dataSubscription\": {},\\n  \"power\": {\\n   \"internal3V3InMilliVolt\": 3311,\\n   \"internal5V0InMilliVolt\": 5003,\\n   \"internal5V0CurrentInMilliAmpere\": 987,\\n   \"chargerCurrentInMilliAmpere\": 999,\\n   \"chargingEnabled\": true\\n  },\\n  \"debug\": {},\\n  \"communication\": {},\\n  \"manufacturing\": {\\n   \"boardPartNum\": 1,\\n   \"bomRevision\": \"w2\",\\n   \"day\": 27,\\n   \"month\": 11,\\n   \"year\": 2018\\n  },\\n  \"offload\": {}\\n },\\n \"calibBoardStatus\": {},\\n \"fileUploadBlocks\": [\\n  {\\n   \"nodeType\": \"eNODE_TYPE_SU_NODE\",\\n   \"serialNumber\": {\\n    \"serialNumber\": \"10001\"\\n   },\\n   \"fileType\": \"eLOGGER_CALIB_PARAMETERS\",\\n   \"totalBlocks\": \"1\",\\n   \"loggerSElemCalibParameters\": {\\n    \"gain\": 6,\\n    \"resonantFrequency\": 111,\\n    \"dampingFactor\": 2,\\n    \"time\": {\\n     \"seconds\": \"1273245556\",\\n     \"timeType\": \"eTIME_TYPE_GPS\"\\n    }\\n   }\\n  }\\n ]\\n}\\n  \\n'"
     },
     "execution_count": 88,
     "metadata": {},
     "output_type": "execute_result"
    }
   ],
   "source": [
    "\n",
    "fp = open(smpl_file, 'rb')\n",
    "fp.seek((general_header1['n_additional_blocks'] + 1) * 32 +\n",
    "        general_header1['n_channel_sets_per_scan_type'] * 96)\n",
    "\n",
    "test = fp.read(general_header2['extended_header_blocks'] * 32)\n",
    "\n",
    "fp.close()\n",
    "test"
   ],
   "metadata": {
    "collapsed": false,
    "pycharm": {
     "name": "#%%\n"
    }
   }
  },
  {
   "cell_type": "markdown",
   "source": [
    "# Data"
   ],
   "metadata": {
    "collapsed": false,
    "pycharm": {
     "name": "#%% md\n"
    }
   }
  },
  {
   "cell_type": "code",
   "execution_count": null,
   "outputs": [],
   "source": [
    "#"
   ],
   "metadata": {
    "collapsed": false,
    "pycharm": {
     "name": "#%%\n"
    }
   }
  },
  {
   "cell_type": "code",
   "execution_count": 109,
   "outputs": [],
   "source": [
    "# demux_trace header안에 trace header가 있는데, demux trace header의 수는\n",
    "# channel set header에서 channel set * number of channel 곱해서 유추해야 함.\n",
    "\n",
    "fp = open(smpl_file, 'rb')\n",
    "fp.seek((general_header1['n_additional_blocks'] + 1) * 32 +\n",
    "        general_header1['n_channel_sets_per_scan_type'] * 96 +\n",
    "        general_header2['extended_header_blocks'] * 32)\n",
    "\n",
    "buf_demux_trace_header = fp.read(20)\n",
    "# test = fp.read(32)\n",
    "\n",
    "fp.close()\n"
   ],
   "metadata": {
    "collapsed": false,
    "pycharm": {
     "name": "#%%\n"
    }
   }
  },
  {
   "cell_type": "code",
   "execution_count": null,
   "outputs": [],
   "source": [],
   "metadata": {
    "collapsed": false,
    "pycharm": {
     "name": "#%%\n"
    }
   }
  },
  {
   "cell_type": "code",
   "execution_count": 110,
   "outputs": [
    {
     "data": {
      "text/plain": "{'file_number': 'ffff',\n 'scan_type_number': 1,\n 'channel_set_number': 1,\n 'trace_number': 1,\n 'first_timing_word': 0,\n 'trace_header_extensions': 11,\n 'sample_skew': 0.0,\n 'trace_edit': '00'}"
     },
     "execution_count": 110,
     "metadata": {},
     "output_type": "execute_result"
    }
   ],
   "source": [
    "demux_trace_header = dict()\n",
    "if _decode_bcd(buf_demux_trace_header[0:2]) > 9999:\n",
    "    demux_trace_header['file_number'] = '{0:0{1}x}'.format(buf_demux_trace_header[0], 2) + '{0:0{1}x}'.format(buf_demux_trace_header[1], 2)\n",
    "else:\n",
    "    demux_trace_header['file_number'] = _decode_bcd(buf_demux_trace_header[0:2])\n",
    "\n",
    "demux_trace_header['scan_type_number'] = _decode_bcd(buf_demux_trace_header[2:3])\n",
    "demux_trace_header['channel_set_number'] = _decode_bcd(buf_demux_trace_header[3:4])\n",
    "demux_trace_header['trace_number'] = _decode_bcd(buf_demux_trace_header[4:6])\n",
    "demux_trace_header['first_timing_word'] = _decode_bcd(buf_demux_trace_header[6:9])\n",
    "demux_trace_header['trace_header_extensions'] = _decode_bin(buf_demux_trace_header[9:10])\n",
    "demux_trace_header['sample_skew'] = _decode_fraction(buf_demux_trace_header[10:11])\n",
    "demux_trace_header['trace_edit'] = '{0:0{1}x}'.format(buf_demux_trace_header[11], 2)    # Hex\n",
    "\n",
    "\n",
    "\n",
    "demux_trace_header"
   ],
   "metadata": {
    "collapsed": false,
    "pycharm": {
     "name": "#%%\n"
    }
   }
  },
  {
   "cell_type": "code",
   "execution_count": 41,
   "outputs": [
    {
     "data": {
      "text/plain": "352"
     },
     "execution_count": 41,
     "metadata": {},
     "output_type": "execute_result"
    }
   ],
   "source": [],
   "metadata": {
    "collapsed": false,
    "pycharm": {
     "name": "#%%\n"
    }
   }
  },
  {
   "cell_type": "code",
   "execution_count": 111,
   "outputs": [],
   "source": [
    "fp = open(smpl_file, 'rb')\n",
    "fp.seek((general_header1['n_additional_blocks'] + 1) * 32 +\n",
    "        general_header1['n_channel_sets_per_scan_type'] * 96 +\n",
    "        general_header2['extended_header_blocks'] * 32 +\n",
    "        20 +\n",
    "        demux_trace_header['trace_header_extensions'] * 32)\n",
    "\n",
    "test = fp.read(ls_channel_set_header[0]['n_samples_in_each_trac_of_this_channel_set'] * 3)\n",
    "# test = fp.read(32)\n",
    "\n",
    "fp.close()"
   ],
   "metadata": {
    "collapsed": false,
    "pycharm": {
     "name": "#%%\n"
    }
   }
  },
  {
   "cell_type": "code",
   "execution_count": 112,
   "outputs": [],
   "source": [
    "len(test)\n",
    "ls_num1 = []\n",
    "ls_num2 = []\n",
    "for i in range(0, len(test), 3):\n",
    "    # print(test[i:i+3])\n",
    "    ls_num1.append(int.from_bytes(test[i:i+3], byteorder='big', signed=True))\n",
    "    # ls_num2.append(int.from_bytes(test[i:i+3], byteorder='big', signed=True))"
   ],
   "metadata": {
    "collapsed": false,
    "pycharm": {
     "name": "#%%\n"
    }
   }
  },
  {
   "cell_type": "code",
   "execution_count": 73,
   "outputs": [
    {
     "name": "stdout",
     "output_type": "stream",
     "text": [
      "[0. 1.]\n",
      "[2. 3.]\n",
      "[4. 5.]\n",
      "[6. 7.]\n",
      "[8. 9.]\n",
      "[10. 11.]\n",
      "[12. 13.]\n",
      "[14. 15.]\n",
      "[16. 17.]\n",
      "[18. 19.]\n",
      "[20. 21.]\n",
      "[22. 23.]\n",
      "[24. 25.]\n",
      "[26. 27.]\n",
      "[28. 29.]\n",
      "[30. 31.]\n",
      "[32. 33.]\n",
      "[34. 35.]\n",
      "[36. 37.]\n",
      "[38. 39.]\n",
      "[40. 41.]\n",
      "[42. 43.]\n",
      "[44. 45.]\n",
      "[46. 47.]\n",
      "[48. 49.]\n",
      "[50. 51.]\n",
      "[52. 53.]\n",
      "[54. 55.]\n",
      "[56. 57.]\n",
      "[58. 59.]\n",
      "[60. 61.]\n",
      "[62. 63.]\n",
      "[64. 65.]\n",
      "[66. 67.]\n",
      "[68. 69.]\n",
      "[70. 71.]\n",
      "[72. 73.]\n",
      "[74. 75.]\n",
      "[76. 77.]\n",
      "[78. 79.]\n",
      "[80. 81.]\n",
      "[82. 83.]\n",
      "[84. 85.]\n",
      "[86. 87.]\n",
      "[88. 89.]\n",
      "[90. 91.]\n",
      "[92. 93.]\n",
      "[94. 95.]\n",
      "[96. 97.]\n",
      "[98. 99.]\n"
     ]
    }
   ],
   "source": [
    "test_arr = np.linspace(0, 100, 101)\n",
    "for i in range(0, 100, 2):\n",
    "    print(test_arr[i:i+2])"
   ],
   "metadata": {
    "collapsed": false,
    "pycharm": {
     "name": "#%%\n"
    }
   }
  },
  {
   "cell_type": "code",
   "execution_count": 113,
   "outputs": [
    {
     "data": {
      "text/plain": "1844000"
     },
     "execution_count": 113,
     "metadata": {},
     "output_type": "execute_result"
    }
   ],
   "source": [
    "ls_num1 = np.array(ls_num1)\n",
    "ls_num1.size"
   ],
   "metadata": {
    "collapsed": false,
    "pycharm": {
     "name": "#%%\n"
    }
   }
  },
  {
   "cell_type": "code",
   "execution_count": 76,
   "outputs": [
    {
     "data": {
      "text/plain": "array([-1356, -1411, -1372, -1347, -1381, -1454, -1527, -1499, -1402,\n       -1380])"
     },
     "execution_count": 76,
     "metadata": {},
     "output_type": "execute_result"
    }
   ],
   "source": [
    "ls_num1[0:10]"
   ],
   "metadata": {
    "collapsed": false,
    "pycharm": {
     "name": "#%%\n"
    }
   }
  },
  {
   "cell_type": "code",
   "execution_count": 65,
   "outputs": [
    {
     "data": {
      "text/plain": "[-1356,\n -346881,\n -4915206,\n -1411,\n -360961,\n 8257530,\n -1372,\n -350977,\n -5963782,\n -1347]"
     },
     "execution_count": 65,
     "metadata": {},
     "output_type": "execute_result"
    }
   ],
   "source": [
    "ls_num2[0:10]"
   ],
   "metadata": {
    "collapsed": false,
    "pycharm": {
     "name": "#%%\n"
    }
   }
  },
  {
   "cell_type": "code",
   "execution_count": 99,
   "outputs": [
    {
     "data": {
      "text/plain": "[<matplotlib.lines.Line2D at 0x18a55c92b20>]"
     },
     "execution_count": 99,
     "metadata": {},
     "output_type": "execute_result"
    }
   ],
   "source": [
    "\n",
    "fig = plt.figure(figsize=plt.figaspect(0.5))\n",
    "ax = fig.add_subplot(1, 1, 1)\n",
    "ax.plot(ls_num1[0:50000])\n",
    "# ax.set_xlabel('Space')\n",
    "# ax.set_ylabel('Time')\n",
    "# ax.view_init(35, -120)"
   ],
   "metadata": {
    "collapsed": false,
    "pycharm": {
     "name": "#%%\n"
    }
   }
  },
  {
   "cell_type": "code",
   "execution_count": 98,
   "outputs": [
    {
     "data": {
      "text/plain": "array([-5151926,   931145,  6557715, ...,        0,        0,        0])"
     },
     "execution_count": 98,
     "metadata": {},
     "output_type": "execute_result"
    }
   ],
   "source": [
    "ls_num1"
   ],
   "metadata": {
    "collapsed": false,
    "pycharm": {
     "name": "#%%\n"
    }
   }
  },
  {
   "cell_type": "code",
   "execution_count": 114,
   "outputs": [],
   "source": [
    "my_geo = dict()\n",
    "my_geo['data'] = ls_num1\n",
    "from scipy.io import savemat\n",
    "savemat('geo_file2.mat', my_geo)"
   ],
   "metadata": {
    "collapsed": false,
    "pycharm": {
     "name": "#%%\n"
    }
   }
  },
  {
   "cell_type": "code",
   "execution_count": 20,
   "outputs": [],
   "source": [
    "tr = obspy.Trace(ls_num)"
   ],
   "metadata": {
    "collapsed": false,
    "pycharm": {
     "name": "#%%\n"
    }
   }
  },
  {
   "cell_type": "code",
   "execution_count": 21,
   "outputs": [
    {
     "data": {
      "text/plain": "... | 1970-01-01T00:00:00.000000Z - 1970-03-05T12:34:59.000000Z | 1.0 Hz, 5488500 samples"
     },
     "execution_count": 21,
     "metadata": {},
     "output_type": "execute_result"
    }
   ],
   "source": [
    "tr"
   ],
   "metadata": {
    "collapsed": false,
    "pycharm": {
     "name": "#%%\n"
    }
   }
  },
  {
   "cell_type": "code",
   "execution_count": 82,
   "outputs": [
    {
     "data": {
      "text/plain": "b'\\x0e5I'"
     },
     "execution_count": 82,
     "metadata": {},
     "output_type": "execute_result"
    }
   ],
   "source": [
    "num_first = test[3:6]\n",
    "num_first\n",
    "num_first"
   ],
   "metadata": {
    "collapsed": false,
    "pycharm": {
     "name": "#%%\n"
    }
   }
  },
  {
   "cell_type": "code",
   "execution_count": 66,
   "outputs": [],
   "source": [
    "def sext24(d):\n",
    "    if ord(d[2]) & 0x80:\n",
    "        return d+'\\xff'\n",
    "    else:\n",
    "        return d+'\\x00'"
   ],
   "metadata": {
    "collapsed": false,
    "pycharm": {
     "name": "#%%\n"
    }
   }
  },
  {
   "cell_type": "code",
   "execution_count": 75,
   "outputs": [],
   "source": [
    "def twos_comp(val, bits=16):\n",
    "        \"\"\"compute the 2's complement of int value \"\"\"\n",
    "        if bits == 0:      # Use as many bits needed for the value.\n",
    "            bits = val.bit_length()\n",
    "        return ((val & (2 ** bits) - 1) - (2 ** bits)) * -1"
   ],
   "metadata": {
    "collapsed": false,
    "pycharm": {
     "name": "#%%\n"
    }
   }
  },
  {
   "cell_type": "code",
   "execution_count": 77,
   "outputs": [
    {
     "name": "stdout",
     "output_type": "stream",
     "text": [
      "06752 = 0x1a60 = 0b0001101001100000\n",
      "58784 = 0xe5a0 = 0b1110010110100000\n",
      "06752 = 0x1a60 = 0b0001101001100000\n"
     ]
    }
   ],
   "source": [
    "    value = 6752\n",
    "    print(f'{value:05d} = 0x{value:04x} = 0b{value:016b}')\n",
    "\n",
    "    value = twos_comp(value)\n",
    "    print(f'{value:05d} = 0x{value:04x} = 0b{value:016b}')\n",
    "\n",
    "    value = twos_comp(value)\n",
    "    print(f'{value:05d} = 0x{value:04x} = 0b{value:016b}')"
   ],
   "metadata": {
    "collapsed": false,
    "pycharm": {
     "name": "#%%\n"
    }
   }
  },
  {
   "cell_type": "code",
   "execution_count": 92,
   "outputs": [
    {
     "name": "stdout",
     "output_type": "stream",
     "text": [
      "ob000011100011010101001001\n",
      "0xe3549\n"
     ]
    }
   ],
   "source": [
    "my_value = -5151926\n",
    "my_value = 931145\n",
    "print(f'ob{my_value:024b}')\n",
    "print(f'0x{my_value:04x}')"
   ],
   "metadata": {
    "collapsed": false,
    "pycharm": {
     "name": "#%%\n"
    }
   }
  },
  {
   "cell_type": "code",
   "execution_count": 98,
   "outputs": [
    {
     "data": {
      "text/plain": "b'\\x0e5I'"
     },
     "execution_count": 98,
     "metadata": {},
     "output_type": "execute_result"
    }
   ],
   "source": [
    "my_value.to_bytes(3, 'big')"
   ],
   "metadata": {
    "collapsed": false,
    "pycharm": {
     "name": "#%%\n"
    }
   }
  },
  {
   "cell_type": "code",
   "execution_count": 107,
   "outputs": [
    {
     "ename": "TypeError",
     "evalue": "'bytes' object cannot be interpreted as an integer",
     "output_type": "error",
     "traceback": [
      "\u001B[1;31m---------------------------------------------------------------------------\u001B[0m",
      "\u001B[1;31mTypeError\u001B[0m                                 Traceback (most recent call last)",
      "Input \u001B[1;32mIn [107]\u001B[0m, in \u001B[0;36m<cell line: 3>\u001B[1;34m()\u001B[0m\n\u001B[0;32m      1\u001B[0m num_first\u001B[38;5;241m.\u001B[39mdecode()\n\u001B[0;32m      2\u001B[0m \u001B[38;5;66;03m# num_first.from_bytes()\u001B[39;00m\n\u001B[1;32m----> 3\u001B[0m \u001B[38;5;28;43mint\u001B[39;49m\u001B[38;5;241;43m.\u001B[39;49m\u001B[43mfrom_bytes\u001B[49m\u001B[43m(\u001B[49m\u001B[43mls_bytes\u001B[49m\u001B[43m,\u001B[49m\u001B[43m \u001B[49m\u001B[43mbyteorder\u001B[49m\u001B[38;5;241;43m=\u001B[39;49m\u001B[38;5;124;43m'\u001B[39;49m\u001B[38;5;124;43mbig\u001B[39;49m\u001B[38;5;124;43m'\u001B[39;49m\u001B[43m,\u001B[49m\u001B[43m \u001B[49m\u001B[43msigned\u001B[49m\u001B[38;5;241;43m=\u001B[39;49m\u001B[38;5;28;43;01mTrue\u001B[39;49;00m\u001B[43m)\u001B[49m\n",
      "\u001B[1;31mTypeError\u001B[0m: 'bytes' object cannot be interpreted as an integer"
     ]
    }
   ],
   "source": [
    "num_first.decode()\n",
    "# num_first.from_bytes()\n",
    "int.from_bytes(num_first, byteorder='big', signed=True)\n",
    "# num_first\n",
    "# num_first\n",
    "# num_first"
   ],
   "metadata": {
    "collapsed": false,
    "pycharm": {
     "name": "#%%\n"
    }
   }
  },
  {
   "cell_type": "code",
   "execution_count": 105,
   "outputs": [],
   "source": [
    "ls_bytes = []\n",
    "ls_bytes.append(num_first)\n",
    "ls_bytes.append(num_first)"
   ],
   "metadata": {
    "collapsed": false,
    "pycharm": {
     "name": "#%%\n"
    }
   }
  },
  {
   "cell_type": "code",
   "execution_count": 106,
   "outputs": [
    {
     "data": {
      "text/plain": "[b'\\x0e5I', b'\\x0e5I']"
     },
     "execution_count": 106,
     "metadata": {},
     "output_type": "execute_result"
    }
   ],
   "source": [
    "ls_bytes"
   ],
   "metadata": {
    "collapsed": false,
    "pycharm": {
     "name": "#%%\n"
    }
   }
  },
  {
   "cell_type": "code",
   "execution_count": 28,
   "outputs": [],
   "source": [
    "fp = open(smpl_file, 'rb')\n",
    "\n",
    "test = fp.read(100)\n",
    "# test = fp.read(32)\n",
    "\n",
    "fp.close()"
   ],
   "metadata": {
    "collapsed": false,
    "pycharm": {
     "name": "#%%\n"
    }
   }
  },
  {
   "cell_type": "code",
   "execution_count": 29,
   "outputs": [
    {
     "data": {
      "text/plain": "b'\\xff\\xff\\x806\\x00\\x00Hp\\x00\\x00 1\\x12\\x15\\x00\\x00\"`\\x02\\x00\\x00\\x00\\xff\\x00\\x00\\x1f\\xff\\x01\\x05\\x00\\xff\\x00\\x00\\'\\x12\\x00\\x05\\x00\\x01v\\x00\\x00\\x03\\x00\\x00\\x00\\x00\\x00\\xda\\x17\\xe8\\xc0\\x00\\x00\\x00\\x03\\x00\\x07\\xd0\\x00\\x00\\x00\\x00\\x02\\x00\\x04\\x84o\\xfck\\xc4\\x80\\x00\\x00\\x00\\x00\\x00T94\\x00\\x00\\x00\\x00\\x00T94\\x00\\x001 \\x00\\x00\\x00\\x03\\x00\\x05\\xa3\\xce'"
     },
     "execution_count": 29,
     "metadata": {},
     "output_type": "execute_result"
    }
   ],
   "source": [
    "test"
   ],
   "metadata": {
    "collapsed": false,
    "pycharm": {
     "name": "#%%\n"
    }
   }
  },
  {
   "cell_type": "code",
   "execution_count": 90,
   "outputs": [],
   "source": [
    "buf = array.array('i')\n",
    "buf.frombytes(test)\n",
    "buf.byteswap()\n",
    "buf = np.array(buf, dtype=np.int32)"
   ],
   "metadata": {
    "collapsed": false,
    "pycharm": {
     "name": "#%%\n"
    }
   }
  },
  {
   "cell_type": "code",
   "execution_count": 91,
   "outputs": [
    {
     "data": {
      "text/plain": "array([-1318893042,   894002192,   327155711, ...,           0,\n                 0,           0])"
     },
     "execution_count": 91,
     "metadata": {},
     "output_type": "execute_result"
    }
   ],
   "source": [
    "buf"
   ],
   "metadata": {
    "collapsed": false,
    "pycharm": {
     "name": "#%%\n"
    }
   }
  },
  {
   "cell_type": "code",
   "execution_count": 129,
   "outputs": [
    {
     "data": {
      "text/plain": "128"
     },
     "execution_count": 129,
     "metadata": {},
     "output_type": "execute_result"
    }
   ],
   "source": [
    "(general_header1['n_additional_blocks'] + 1) * 32"
   ],
   "metadata": {
    "collapsed": false,
    "pycharm": {
     "name": "#%%\n"
    }
   }
  },
  {
   "cell_type": "code",
   "execution_count": 102,
   "outputs": [
    {
     "data": {
      "text/plain": "0"
     },
     "execution_count": 102,
     "metadata": {},
     "output_type": "execute_result"
    }
   ],
   "source": [
    "_decode_bin(buf_header2[12:16])"
   ],
   "metadata": {
    "collapsed": false,
    "pycharm": {
     "name": "#%%\n"
    }
   }
  },
  {
   "cell_type": "code",
   "execution_count": 60,
   "outputs": [
    {
     "data": {
      "text/plain": "False"
     },
     "execution_count": 60,
     "metadata": {},
     "output_type": "execute_result"
    }
   ],
   "source": [
    "_ehl = _decode_bcd(buf_header1[31:32])\n",
    "_ehl == 0xFF"
   ],
   "metadata": {
    "collapsed": false,
    "pycharm": {
     "name": "#%%\n"
    }
   }
  },
  {
   "cell_type": "code",
   "execution_count": 62,
   "outputs": [
    {
     "data": {
      "text/plain": "True"
     },
     "execution_count": 62,
     "metadata": {},
     "output_type": "execute_result"
    }
   ],
   "source": [
    "buf_header1[1] == 0xFF"
   ],
   "metadata": {
    "collapsed": false,
    "pycharm": {
     "name": "#%%\n"
    }
   }
  },
  {
   "cell_type": "code",
   "execution_count": 48,
   "outputs": [],
   "source": [
    "_bsi /= 10."
   ],
   "metadata": {
    "collapsed": false,
    "pycharm": {
     "name": "#%%\n"
    }
   }
  },
  {
   "cell_type": "code",
   "execution_count": 52,
   "outputs": [],
   "source": [
    "_bsi\n",
    "_rec_type, _rec_len = _bcd(buf_header1[25])"
   ],
   "metadata": {
    "collapsed": false,
    "pycharm": {
     "name": "#%%\n"
    }
   }
  },
  {
   "cell_type": "code",
   "execution_count": 53,
   "outputs": [
    {
     "data": {
      "text/plain": "1"
     },
     "execution_count": 53,
     "metadata": {},
     "output_type": "execute_result"
    }
   ],
   "source": [
    "_rec_type"
   ],
   "metadata": {
    "collapsed": false,
    "pycharm": {
     "name": "#%%\n"
    }
   }
  },
  {
   "cell_type": "code",
   "execution_count": 54,
   "outputs": [
    {
     "data": {
      "text/plain": "15"
     },
     "execution_count": 54,
     "metadata": {},
     "output_type": "execute_result"
    }
   ],
   "source": [
    "_rec_len"
   ],
   "metadata": {
    "collapsed": false,
    "pycharm": {
     "name": "#%%\n"
    }
   }
  },
  {
   "cell_type": "code",
   "execution_count": 18,
   "outputs": [
    {
     "data": {
      "text/plain": "255"
     },
     "execution_count": 18,
     "metadata": {},
     "output_type": "execute_result"
    }
   ],
   "source": [
    "# buf_header1[0:2]\n",
    "buf_header1[0]"
   ],
   "metadata": {
    "collapsed": false,
    "pycharm": {
     "name": "#%%\n"
    }
   }
  },
  {
   "cell_type": "code",
   "execution_count": 26,
   "outputs": [
    {
     "data": {
      "text/plain": "'ffff'"
     },
     "execution_count": 26,
     "metadata": {},
     "output_type": "execute_result"
    }
   ],
   "source": [
    "a = '{0:0{1}x}'.format(buf_header1[0], 2) + '{0:0{1}x}'.format(buf_header1[1], 2)\n",
    "# '{0:0{1}x}'.format(buf_header1[1], 2)\n",
    "a"
   ],
   "metadata": {
    "collapsed": false,
    "pycharm": {
     "name": "#%%\n"
    }
   }
  }
 ],
 "metadata": {
  "kernelspec": {
   "display_name": "Python 3",
   "language": "python",
   "name": "python3"
  },
  "language_info": {
   "codemirror_mode": {
    "name": "ipython",
    "version": 2
   },
   "file_extension": ".py",
   "mimetype": "text/x-python",
   "name": "python",
   "nbconvert_exporter": "python",
   "pygments_lexer": "ipython2",
   "version": "2.7.6"
  }
 },
 "nbformat": 4,
 "nbformat_minor": 0
}