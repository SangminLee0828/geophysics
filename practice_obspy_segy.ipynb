{
 "cells": [
  {
   "cell_type": "code",
   "execution_count": 1,
   "metadata": {
    "collapsed": true,
    "pycharm": {
     "name": "#%%\n"
    }
   },
   "outputs": [
    {
     "name": "stderr",
     "output_type": "stream",
     "text": [
      "C:\\Users\\lsm08\\anaconda3\\envs\\geophysics_39\\lib\\site-packages\\obspy\\io\\segy\\segy.py:773: UserWarning: Trace starttime does not store a proper date (day of year is zero). Using January 1st 00:00 as trace start time.\n",
      "  warnings.warn(msg)\n"
     ]
    },
    {
     "data": {
      "text/plain": "26820 Trace(s) in Stream:\n\nSeq. No. in line:    3 | 2019-01-01T00:00:00.000000Z - 2019-01-01T00:00:04.000000Z | 1000.0 Hz, 4001 samples\n...\n(26818 other traces)\n...\nSeq. No. in line: 26818 | 2019-01-01T00:00:00.000000Z - 2019-01-01T00:00:04.000000Z | 1000.0 Hz, 4001 samples\n\n[Use \"print(Stream.__str__(extended=True))\" to print all Traces]"
     },
     "execution_count": 1,
     "metadata": {},
     "output_type": "execute_result"
    }
   ],
   "source": [
    "from obspy.io.segy.core import _read_segy\n",
    "from obspy.core.util import get_example_file\n",
    "# or 'from obspy import read' if file wide headers are of no interest\n",
    "path_file = r'C:\\Users\\lsm08\\Downloads\\TR_McMillen2_VSP\\TR_McMillen2_VSP\\VSP_Processing_Results\\TR_McMillen2_2D_VSP_20190403_processed_shot_recs_with_geom_GeostockSandia.sgy'\n",
    "filename = get_example_file(path_file)\n",
    "st = _read_segy(filename)\n",
    "st"
   ]
  },
  {
   "cell_type": "code",
   "execution_count": 3,
   "outputs": [
    {
     "ename": "KeyboardInterrupt",
     "evalue": "",
     "output_type": "error",
     "traceback": [
      "\u001B[1;31m---------------------------------------------------------------------------\u001B[0m",
      "\u001B[1;31mKeyboardInterrupt\u001B[0m                         Traceback (most recent call last)",
      "Input \u001B[1;32mIn [3]\u001B[0m, in \u001B[0;36m<cell line: 1>\u001B[1;34m()\u001B[0m\n\u001B[1;32m----> 1\u001B[0m \u001B[43mst\u001B[49m\u001B[38;5;241;43m.\u001B[39;49m\u001B[43mplot\u001B[49m\u001B[43m(\u001B[49m\u001B[43m)\u001B[49m\n",
      "File \u001B[1;32m~\\anaconda3\\envs\\geophysics_39\\lib\\site-packages\\obspy\\core\\stream.py:1155\u001B[0m, in \u001B[0;36mStream.plot\u001B[1;34m(self, *args, **kwargs)\u001B[0m\n\u001B[0;32m   1153\u001B[0m \u001B[38;5;28;01mfrom\u001B[39;00m \u001B[38;5;21;01mobspy\u001B[39;00m\u001B[38;5;21;01m.\u001B[39;00m\u001B[38;5;21;01mimaging\u001B[39;00m\u001B[38;5;21;01m.\u001B[39;00m\u001B[38;5;21;01mwaveform\u001B[39;00m \u001B[38;5;28;01mimport\u001B[39;00m WaveformPlotting\n\u001B[0;32m   1154\u001B[0m waveform \u001B[38;5;241m=\u001B[39m WaveformPlotting(stream\u001B[38;5;241m=\u001B[39m\u001B[38;5;28mself\u001B[39m, \u001B[38;5;241m*\u001B[39margs, \u001B[38;5;241m*\u001B[39m\u001B[38;5;241m*\u001B[39mkwargs)\n\u001B[1;32m-> 1155\u001B[0m \u001B[38;5;28;01mreturn\u001B[39;00m waveform\u001B[38;5;241m.\u001B[39mplot_waveform(\u001B[38;5;241m*\u001B[39margs, \u001B[38;5;241m*\u001B[39m\u001B[38;5;241m*\u001B[39mkwargs)\n",
      "File \u001B[1;32m~\\anaconda3\\envs\\geophysics_39\\lib\\site-packages\\obspy\\imaging\\waveform.py:273\u001B[0m, in \u001B[0;36mWaveformPlotting.plot_waveform\u001B[1;34m(self, *args, **kwargs)\u001B[0m\n\u001B[0;32m    271\u001B[0m     \u001B[38;5;28mself\u001B[39m\u001B[38;5;241m.\u001B[39mplot_section(\u001B[38;5;241m*\u001B[39margs, \u001B[38;5;241m*\u001B[39m\u001B[38;5;241m*\u001B[39mkwargs)\n\u001B[0;32m    272\u001B[0m \u001B[38;5;28;01melse\u001B[39;00m:\n\u001B[1;32m--> 273\u001B[0m     \u001B[38;5;28mself\u001B[39m\u001B[38;5;241m.\u001B[39mplot(\u001B[38;5;241m*\u001B[39margs, \u001B[38;5;241m*\u001B[39m\u001B[38;5;241m*\u001B[39mkwargs)\n\u001B[0;32m    274\u001B[0m \u001B[38;5;66;03m# Adjust the subplot so there is always a fixed margin on every side\u001B[39;00m\n\u001B[0;32m    275\u001B[0m \u001B[38;5;28;01mif\u001B[39;00m \u001B[38;5;28mself\u001B[39m\u001B[38;5;241m.\u001B[39mtype \u001B[38;5;241m!=\u001B[39m \u001B[38;5;124m'\u001B[39m\u001B[38;5;124mdayplot\u001B[39m\u001B[38;5;124m'\u001B[39m:\n",
      "File \u001B[1;32m~\\anaconda3\\envs\\geophysics_39\\lib\\site-packages\\obspy\\imaging\\waveform.py:391\u001B[0m, in \u001B[0;36mWaveformPlotting.plot\u001B[1;34m(self, *args, **kwargs)\u001B[0m\n\u001B[0;32m    389\u001B[0m method_ \u001B[38;5;241m=\u001B[39m method_\u001B[38;5;241m.\u001B[39mlower()\n\u001B[0;32m    390\u001B[0m \u001B[38;5;28;01mif\u001B[39;00m method_ \u001B[38;5;241m==\u001B[39m \u001B[38;5;124m'\u001B[39m\u001B[38;5;124mfull\u001B[39m\u001B[38;5;124m'\u001B[39m:\n\u001B[1;32m--> 391\u001B[0m     \u001B[38;5;28mself\u001B[39m\u001B[38;5;241m.\u001B[39m__plot_straight(stream_new[_i], ax, \u001B[38;5;241m*\u001B[39margs, \u001B[38;5;241m*\u001B[39m\u001B[38;5;241m*\u001B[39mkwargs)\n\u001B[0;32m    392\u001B[0m \u001B[38;5;28;01melif\u001B[39;00m method_ \u001B[38;5;241m==\u001B[39m \u001B[38;5;124m'\u001B[39m\u001B[38;5;124mfast\u001B[39m\u001B[38;5;124m'\u001B[39m:\n\u001B[0;32m    393\u001B[0m     \u001B[38;5;28mself\u001B[39m\u001B[38;5;241m.\u001B[39m__plot_min_max(stream_new[_i], ax, \u001B[38;5;241m*\u001B[39margs, \u001B[38;5;241m*\u001B[39m\u001B[38;5;241m*\u001B[39mkwargs)\n",
      "File \u001B[1;32m~\\anaconda3\\envs\\geophysics_39\\lib\\site-packages\\obspy\\imaging\\waveform.py:672\u001B[0m, in \u001B[0;36mWaveformPlotting.__plot_straight\u001B[1;34m(self, trace, ax, *args, **kwargs)\u001B[0m\n\u001B[0;32m    670\u001B[0m \u001B[38;5;66;03m# trace argument seems to actually be a list of traces..\u001B[39;00m\n\u001B[0;32m    671\u001B[0m st \u001B[38;5;241m=\u001B[39m Stream(trace)\n\u001B[1;32m--> 672\u001B[0m \u001B[38;5;28;43mself\u001B[39;49m\u001B[38;5;241;43m.\u001B[39;49m\u001B[43m_draw_overlap_axvspans\u001B[49m\u001B[43m(\u001B[49m\u001B[43mst\u001B[49m\u001B[43m,\u001B[49m\u001B[43m \u001B[49m\u001B[43max\u001B[49m\u001B[43m)\u001B[49m\n\u001B[0;32m    673\u001B[0m \u001B[38;5;28;01mfor\u001B[39;00m trace \u001B[38;5;129;01min\u001B[39;00m st:\n\u001B[0;32m    674\u001B[0m     \u001B[38;5;66;03m# Check if it is a preview file and adjust accordingly.\u001B[39;00m\n\u001B[0;32m    675\u001B[0m     \u001B[38;5;66;03m# XXX: Will look weird if the preview file is too small.\u001B[39;00m\n\u001B[0;32m    676\u001B[0m     \u001B[38;5;28;01mif\u001B[39;00m trace\u001B[38;5;241m.\u001B[39mstats\u001B[38;5;241m.\u001B[39mget(\u001B[38;5;124m'\u001B[39m\u001B[38;5;124mpreview\u001B[39m\u001B[38;5;124m'\u001B[39m):\n\u001B[0;32m    677\u001B[0m         \u001B[38;5;66;03m# Mask the gaps.\u001B[39;00m\n",
      "File \u001B[1;32m~\\anaconda3\\envs\\geophysics_39\\lib\\site-packages\\obspy\\imaging\\waveform.py:1451\u001B[0m, in \u001B[0;36mWaveformPlotting._draw_overlap_axvspans\u001B[1;34m(self, st, ax)\u001B[0m\n\u001B[0;32m   1450\u001B[0m \u001B[38;5;28;01mdef\u001B[39;00m \u001B[38;5;21m_draw_overlap_axvspans\u001B[39m(\u001B[38;5;28mself\u001B[39m, st, ax):\n\u001B[1;32m-> 1451\u001B[0m     \u001B[38;5;28;01mfor\u001B[39;00m _, _, _, _, start, end, delta, _ \u001B[38;5;129;01min\u001B[39;00m \u001B[43mst\u001B[49m\u001B[38;5;241;43m.\u001B[39;49m\u001B[43mget_gaps\u001B[49m\u001B[43m(\u001B[49m\u001B[43m)\u001B[49m:\n\u001B[0;32m   1452\u001B[0m         \u001B[38;5;28;01mif\u001B[39;00m delta \u001B[38;5;241m>\u001B[39m \u001B[38;5;241m0\u001B[39m:\n\u001B[0;32m   1453\u001B[0m             \u001B[38;5;28;01mcontinue\u001B[39;00m\n",
      "File \u001B[1;32m~\\anaconda3\\envs\\geophysics_39\\lib\\site-packages\\obspy\\core\\stream.py:830\u001B[0m, in \u001B[0;36mStream.get_gaps\u001B[1;34m(self, min_gap, max_gap)\u001B[0m\n\u001B[0;32m    828\u001B[0m prev_start \u001B[38;5;241m=\u001B[39m prev_stats[\u001B[38;5;124m'\u001B[39m\u001B[38;5;124mstarttime\u001B[39m\u001B[38;5;124m'\u001B[39m]\n\u001B[0;32m    829\u001B[0m prev_end \u001B[38;5;241m=\u001B[39m prev_stats[\u001B[38;5;124m'\u001B[39m\u001B[38;5;124mendtime\u001B[39m\u001B[38;5;124m'\u001B[39m]\n\u001B[1;32m--> 830\u001B[0m \u001B[38;5;28;01mif\u001B[39;00m \u001B[38;5;129;01mnot\u001B[39;00m (prev_start \u001B[38;5;241m<\u001B[39m stime \u001B[38;5;241m<\u001B[39m etime \u001B[38;5;241m<\u001B[39m prev_end):\n\u001B[0;32m    831\u001B[0m     \u001B[38;5;28;01mcontinue\u001B[39;00m\n\u001B[0;32m    832\u001B[0m \u001B[38;5;66;03m# don't look in traces of other measurements\u001B[39;00m\n",
      "File \u001B[1;32m~\\anaconda3\\envs\\geophysics_39\\lib\\site-packages\\obspy\\core\\utcdatetime.py:1153\u001B[0m, in \u001B[0;36mUTCDateTime.__lt__\u001B[1;34m(self, other)\u001B[0m\n\u001B[0;32m   1131\u001B[0m \u001B[38;5;28;01mdef\u001B[39;00m \u001B[38;5;21m__lt__\u001B[39m(\u001B[38;5;28mself\u001B[39m, other):\n\u001B[0;32m   1132\u001B[0m     \u001B[38;5;124;03m\"\"\"\u001B[39;00m\n\u001B[0;32m   1133\u001B[0m \u001B[38;5;124;03m    Rich comparison operator '<'.\u001B[39;00m\n\u001B[0;32m   1134\u001B[0m \n\u001B[1;32m   (...)\u001B[0m\n\u001B[0;32m   1151\u001B[0m \u001B[38;5;124;03m    True\u001B[39;00m\n\u001B[0;32m   1152\u001B[0m \u001B[38;5;124;03m    \"\"\"\u001B[39;00m\n\u001B[1;32m-> 1153\u001B[0m     \u001B[38;5;28;01mreturn\u001B[39;00m \u001B[38;5;28;43mself\u001B[39;49m\u001B[38;5;241;43m.\u001B[39;49m\u001B[43m_operate\u001B[49m\u001B[43m(\u001B[49m\u001B[43mother\u001B[49m\u001B[43m,\u001B[49m\u001B[43m \u001B[49m\u001B[43moperator\u001B[49m\u001B[38;5;241;43m.\u001B[39;49m\u001B[43mlt\u001B[49m\u001B[43m)\u001B[49m\n",
      "File \u001B[1;32m~\\anaconda3\\envs\\geophysics_39\\lib\\site-packages\\obspy\\core\\utcdatetime.py:1075\u001B[0m, in \u001B[0;36mUTCDateTime._operate\u001B[1;34m(self, other, op_func)\u001B[0m\n\u001B[0;32m   1073\u001B[0m         warnings\u001B[38;5;241m.\u001B[39mwarn(msg, ObsPyDeprecationWarning)\n\u001B[0;32m   1074\u001B[0m     a \u001B[38;5;241m=\u001B[39m \u001B[38;5;28mround\u001B[39m(\u001B[38;5;28mself\u001B[39m\u001B[38;5;241m.\u001B[39m_ns, ndigits)\n\u001B[1;32m-> 1075\u001B[0m     b \u001B[38;5;241m=\u001B[39m \u001B[38;5;28mround\u001B[39m(\u001B[43mother\u001B[49m\u001B[38;5;241;43m.\u001B[39;49m\u001B[43m_ns\u001B[49m, ndigits)\n\u001B[0;32m   1076\u001B[0m     \u001B[38;5;28;01mreturn\u001B[39;00m op_func(a, b)\n\u001B[0;32m   1077\u001B[0m \u001B[38;5;28;01melse\u001B[39;00m:\n",
      "File \u001B[1;32m~\\anaconda3\\envs\\geophysics_39\\lib\\site-packages\\obspy\\core\\utcdatetime.py:504\u001B[0m, in \u001B[0;36mUTCDateTime._get_ns\u001B[1;34m(self)\u001B[0m\n\u001B[0;32m    495\u001B[0m \u001B[38;5;28;01mdef\u001B[39;00m \u001B[38;5;21m_get_ns\u001B[39m(\u001B[38;5;28mself\u001B[39m):\n\u001B[0;32m    496\u001B[0m     \u001B[38;5;124;03m\"\"\"\u001B[39;00m\n\u001B[0;32m    497\u001B[0m \u001B[38;5;124;03m    Returns POSIX timestamp as integer nanoseconds.\u001B[39;00m\n\u001B[0;32m    498\u001B[0m \n\u001B[1;32m   (...)\u001B[0m\n\u001B[0;32m    502\u001B[0m \u001B[38;5;124;03m    :returns: POSIX timestamp as integer nanoseconds\u001B[39;00m\n\u001B[0;32m    503\u001B[0m \u001B[38;5;124;03m    \"\"\"\u001B[39;00m\n\u001B[1;32m--> 504\u001B[0m     \u001B[38;5;28;01mreturn\u001B[39;00m \u001B[38;5;28;43mself\u001B[39;49m\u001B[38;5;241;43m.\u001B[39;49m\u001B[43m__ns\u001B[49m\n",
      "\u001B[1;31mKeyboardInterrupt\u001B[0m: "
     ]
    },
    {
     "data": {
      "text/plain": "<Figure size 800x250 with 1 Axes>",
      "image/png": "[encoded data removed]"
     },
     "metadata": {
      "needs_background": "light"
     },
     "output_type": "display_data"
    }
   ],
   "source": [
    "st.plot()"
   ],
   "metadata": {
    "collapsed": false,
    "pycharm": {
     "name": "#%%\n"
    }
   }
  },
  {
   "cell_type": "code",
   "execution_count": 9,
   "outputs": [
    {
     "data": {
      "text/plain": "array([-1.5045650e-04, -1.7932711e-04, -1.9090441e-04, ...,\n       -1.1592941e+00, -9.4826806e-01, -6.4009035e-01], dtype=float32)"
     },
     "execution_count": 9,
     "metadata": {},
     "output_type": "execute_result"
    }
   ],
   "source": [
    "st.traces[2].data"
   ],
   "metadata": {
    "collapsed": false,
    "pycharm": {
     "name": "#%%\n"
    }
   }
  },
  {
   "cell_type": "code",
   "execution_count": 12,
   "outputs": [
    {
     "ename": "AttributeError",
     "evalue": "channel",
     "output_type": "error",
     "traceback": [
      "\u001B[1;31m---------------------------------------------------------------------------\u001B[0m",
      "\u001B[1;31mKeyError\u001B[0m                                  Traceback (most recent call last)",
      "File \u001B[1;32m~\\anaconda3\\envs\\geophysics_39\\lib\\site-packages\\obspy\\core\\util\\attribdict.py:142\u001B[0m, in \u001B[0;36mAttribDict.__getattr__\u001B[1;34m(self, name, default)\u001B[0m\n\u001B[0;32m    141\u001B[0m \u001B[38;5;28;01mtry\u001B[39;00m:\n\u001B[1;32m--> 142\u001B[0m     \u001B[38;5;28;01mreturn\u001B[39;00m \u001B[38;5;28;43mself\u001B[39;49m\u001B[38;5;241;43m.\u001B[39;49m\u001B[38;5;21;43m__getitem__\u001B[39;49m\u001B[43m(\u001B[49m\u001B[43mname\u001B[49m\u001B[43m,\u001B[49m\u001B[43m \u001B[49m\u001B[43mdefault\u001B[49m\u001B[43m)\u001B[49m\n\u001B[0;32m    143\u001B[0m \u001B[38;5;28;01mexcept\u001B[39;00m \u001B[38;5;167;01mKeyError\u001B[39;00m \u001B[38;5;28;01mas\u001B[39;00m e:\n",
      "File \u001B[1;32m~\\anaconda3\\envs\\geophysics_39\\lib\\site-packages\\obspy\\core\\util\\attribdict.py:97\u001B[0m, in \u001B[0;36mAttribDict.__getitem__\u001B[1;34m(self, name, default)\u001B[0m\n\u001B[0;32m     96\u001B[0m \u001B[38;5;28;01mtry\u001B[39;00m:\n\u001B[1;32m---> 97\u001B[0m     \u001B[38;5;28;01mreturn\u001B[39;00m \u001B[38;5;28;43mself\u001B[39;49m\u001B[38;5;241;43m.\u001B[39;49m\u001B[38;5;18;43m__dict__\u001B[39;49m\u001B[43m[\u001B[49m\u001B[43mname\u001B[49m\u001B[43m]\u001B[49m\n\u001B[0;32m     98\u001B[0m \u001B[38;5;28;01mexcept\u001B[39;00m \u001B[38;5;167;01mKeyError\u001B[39;00m:\n\u001B[0;32m     99\u001B[0m     \u001B[38;5;66;03m# check if we got any default value given at class level\u001B[39;00m\n",
      "\u001B[1;31mKeyError\u001B[0m: 'channel'",
      "\nDuring handling of the above exception, another exception occurred:\n",
      "\u001B[1;31mAttributeError\u001B[0m                            Traceback (most recent call last)",
      "Input \u001B[1;32mIn [12]\u001B[0m, in \u001B[0;36m<cell line: 1>\u001B[1;34m()\u001B[0m\n\u001B[1;32m----> 1\u001B[0m \u001B[43mst\u001B[49m\u001B[38;5;241;43m.\u001B[39;49m\u001B[43mstats\u001B[49m\u001B[38;5;241;43m.\u001B[39;49m\u001B[43mchannel\u001B[49m\n",
      "File \u001B[1;32m~\\anaconda3\\envs\\geophysics_39\\lib\\site-packages\\obspy\\core\\util\\attribdict.py:144\u001B[0m, in \u001B[0;36mAttribDict.__getattr__\u001B[1;34m(self, name, default)\u001B[0m\n\u001B[0;32m    142\u001B[0m     \u001B[38;5;28;01mreturn\u001B[39;00m \u001B[38;5;28mself\u001B[39m\u001B[38;5;241m.\u001B[39m\u001B[38;5;21m__getitem__\u001B[39m(name, default)\n\u001B[0;32m    143\u001B[0m \u001B[38;5;28;01mexcept\u001B[39;00m \u001B[38;5;167;01mKeyError\u001B[39;00m \u001B[38;5;28;01mas\u001B[39;00m e:\n\u001B[1;32m--> 144\u001B[0m     \u001B[38;5;28;01mraise\u001B[39;00m \u001B[38;5;167;01mAttributeError\u001B[39;00m(e\u001B[38;5;241m.\u001B[39margs[\u001B[38;5;241m0\u001B[39m])\n",
      "\u001B[1;31mAttributeError\u001B[0m: channel"
     ]
    }
   ],
   "source": [
    "st.stats.channel"
   ],
   "metadata": {
    "collapsed": false,
    "pycharm": {
     "name": "#%%\n"
    }
   }
  }
 ],
 "metadata": {
  "kernelspec": {
   "display_name": "Python 3",
   "language": "python",
   "name": "python3"
  },
  "language_info": {
   "codemirror_mode": {
    "name": "ipython",
    "version": 2
   },
   "file_extension": ".py",
   "mimetype": "text/x-python",
   "name": "python",
   "nbconvert_exporter": "python",
   "pygments_lexer": "ipython2",
   "version": "2.7.6"
  }
 },
 "nbformat": 4,
 "nbformat_minor": 0
}