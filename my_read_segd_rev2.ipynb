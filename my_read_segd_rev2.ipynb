{
 "cells": [
  {
   "cell_type": "code",
   "execution_count": 1,
   "metadata": {
    "collapsed": true,
    "pycharm": {
     "name": "#%%\n"
    }
   },
   "outputs": [
    {
     "name": "stdout",
     "output_type": "stream",
     "text": [
      "Previous matplotlib backend: module://matplotlib_inline.backend_inline\n",
      "Current matplotlib backend: Qt5Agg\n"
     ]
    }
   ],
   "source": [
    "import obspy\n",
    "import struct\n",
    "import numpy as np\n",
    "import math\n",
    "import array\n",
    "import matplotlib\n",
    "import matplotlib.pyplot as plt\n",
    "from pathlib import Path\n",
    "print('Previous matplotlib backend: ' + matplotlib.get_backend())\n",
    "%matplotlib qt5\n",
    "print('Current matplotlib backend: ' + matplotlib.get_backend())\n",
    "\n",
    "\n",
    "def _bcd(byte):\n",
    "    \"\"\"Decode 1-byte binary code decimals.\"\"\"\n",
    "\n",
    "    if isinstance(byte, str):\n",
    "        try:\n",
    "            byte = ord(byte)\n",
    "        except TypeError:\n",
    "            raise ValueError('not a byte')\n",
    "    elif isinstance(byte, int):\n",
    "        if byte > 255:\n",
    "            raise ValueError('not a byte')\n",
    "\n",
    "    else:\n",
    "        raise ValueError('not a byte')\n",
    "    v1 = byte >> 4\n",
    "    v2 = byte & 0xF\n",
    "    return v1, v2\n",
    "\n",
    "def _decode_bcd(bytes_in):\n",
    "    \"\"\"Decode arbitrary length binary code decimals.\"\"\"\n",
    "    v = 0\n",
    "    if isinstance(bytes_in, int):\n",
    "        bytes_in = bytes([bytes_in])\n",
    "        disp('bytes in')\n",
    "    n = len(bytes_in)\n",
    "    n = n*2 - 1  # 2 values per byte\n",
    "    for byte in bytes_in:\n",
    "        v1, v2 = _bcd(byte)\n",
    "        v += v1*10**n + v2*10**(n-1)\n",
    "        n -= 2\n",
    "    return v\n",
    "\n",
    "def _decode_bin(bytes_in):\n",
    "    \"\"\"Decode unsigned ints.\"\"\"\n",
    "    if isinstance(bytes_in, int):\n",
    "        bytes_in = bytes([bytes_in])\n",
    "    ll = len(bytes_in)\n",
    "    # zero-pad to 4 bytes\n",
    "    b = (chr(0)*(4-ll)).encode()\n",
    "    b += bytes_in\n",
    "    return struct.unpack('>I', b)[0]\n",
    "\n",
    "def _decode_flt(bytes_in):\n",
    "    \"\"\"Decode single-precision floats.\"\"\"\n",
    "    if isinstance(bytes_in, int):\n",
    "        bytes_in = bytes([bytes_in])\n",
    "    ll = len(bytes_in)\n",
    "    # zero-pad to 4 bytes\n",
    "    b = (chr(0)*(4-ll)).encode()\n",
    "    b += bytes_in\n",
    "    f = struct.unpack('>f', b)[0]\n",
    "    if math.isnan(f):\n",
    "        f = None\n",
    "    return f\n",
    "\n",
    "def _decode_fraction(bytes_in):\n",
    "    \"\"\"Decode positive binary fractions.\"\"\"\n",
    "    bytes_ord = bytes_in\n",
    "    bit = ''.join('{:08b}'.format(b) for b in bytes_ord)\n",
    "    return sum(int(x) * 2**-n for n, x in enumerate(bit, 1))"
   ]
  },
  {
   "cell_type": "code",
   "execution_count": 3,
   "outputs": [],
   "source": [
    "smpl_file = r'.\\data\\vibe0000008.sgd'\n",
    "fp = open(smpl_file, 'rb')\n",
    "buf_header1 = fp.read(32)\n",
    "buf_header2 = fp.read(32)\n",
    "fp.close()"
   ],
   "metadata": {
    "collapsed": false,
    "pycharm": {
     "name": "#%%\n"
    }
   }
  },
  {
   "cell_type": "code",
   "execution_count": 14,
   "outputs": [],
   "source": [
    "general_header1 = dict()\n",
    "if _decode_bcd(buf_header1[0:2]) > 9999:\n",
    "    general_header1['file number'] = '{0:0{1}x}'.format(buf_header1[0], 2) + '{0:0{1}x}'.format(buf_header1[1], 2)\n",
    "else:\n",
    "    general_header1['file number'] = _decode_bcd(buf_header1[0:2])\n",
    "general_header1['format code'] = _decode_bcd(buf_header1[2:4])\n",
    "_year = _decode_bcd(buf_header1[10:11]) + 2000\n",
    "_nblocks, _jday = _bcd(buf_header1[11])\n",
    "general_header1['n_additional_blocks'] = _nblocks   # important\n",
    "_jday *= 100\n",
    "_jday += _decode_bcd(buf_header1[12:13])\n",
    "_hour = _decode_bcd(buf_header1[13:14])\n",
    "_min = _decode_bcd(buf_header1[14:15])\n",
    "_sec = _decode_bcd(buf_header1[15:16])\n",
    "general_header1['time'] = obspy.UTCDateTime(year=_year, julday=_jday,\n",
    "                               hour=_hour, minute=_min, second=_sec)\n",
    "general_header1['base_scan_interval'] = _decode_bcd(buf_header1[22:23])\n",
    "general_header1['record_length'] = _decode_bcd(buf_header1[26:27])\n",
    "general_header1['scan_type_per_record'] = _decode_bcd(buf_header1[27:28])\n",
    "general_header1['n_channel_sets_per_scan_type'] = _decode_bcd(buf_header1[28:29])"
   ],
   "metadata": {
    "collapsed": false,
    "pycharm": {
     "name": "#%%\n"
    }
   }
  },
  {
   "cell_type": "code",
   "execution_count": 15,
   "outputs": [
    {
     "data": {
      "text/plain": "{'file number': 8,\n 'format code': 8058,\n 'n_additional_blocks': 1,\n 'time': 2019-02-20T16:55:48.000000Z,\n 'base_scan_interval': 8,\n 'record_length': 165,\n 'scan_type_per_record': 1,\n 'n_channel_sets_per_scan_type': 3}"
     },
     "execution_count": 15,
     "metadata": {},
     "output_type": "execute_result"
    }
   ],
   "source": [
    "general_header1"
   ],
   "metadata": {
    "collapsed": false,
    "pycharm": {
     "name": "#%%\n"
    }
   }
  },
  {
   "cell_type": "code",
   "execution_count": 16,
   "outputs": [
    {
     "data": {
      "text/plain": "b'\\xff'"
     },
     "execution_count": 16,
     "metadata": {},
     "output_type": "execute_result"
    }
   ],
   "source": [
    "buf_header1[26:27]"
   ],
   "metadata": {
    "collapsed": false,
    "pycharm": {
     "name": "#%%\n"
    }
   }
  },
  {
   "cell_type": "code",
   "execution_count": 25,
   "outputs": [
    {
     "data": {
      "text/plain": "b'\\x08'"
     },
     "execution_count": 25,
     "metadata": {},
     "output_type": "execute_result"
    }
   ],
   "source": [
    "buf_header1[22:23]"
   ],
   "metadata": {
    "collapsed": false,
    "pycharm": {
     "name": "#%%\n"
    }
   }
  },
  {
   "cell_type": "code",
   "execution_count": 39,
   "outputs": [
    {
     "data": {
      "text/plain": "'10000000'"
     },
     "execution_count": 39,
     "metadata": {},
     "output_type": "execute_result"
    }
   ],
   "source": [
    "f'{0x08:0>8b}'\n",
    "f'{0x08:0<8b}'"
   ],
   "metadata": {
    "collapsed": false,
    "pycharm": {
     "name": "#%%\n"
    }
   }
  },
  {
   "cell_type": "code",
   "execution_count": 26,
   "outputs": [
    {
     "data": {
      "text/plain": "8"
     },
     "execution_count": 26,
     "metadata": {},
     "output_type": "execute_result"
    }
   ],
   "source": [
    "_decode_bcd(buf_header1[22:23])"
   ],
   "metadata": {
    "collapsed": false,
    "pycharm": {
     "name": "#%%\n"
    }
   }
  },
  {
   "cell_type": "code",
   "execution_count": 24,
   "outputs": [
    {
     "data": {
      "text/plain": "0.03125"
     },
     "execution_count": 24,
     "metadata": {},
     "output_type": "execute_result"
    }
   ],
   "source": [
    "_decode_fraction(buf_header1[22:23])"
   ],
   "metadata": {
    "collapsed": false,
    "pycharm": {
     "name": "#%%\n"
    }
   }
  },
  {
   "cell_type": "code",
   "execution_count": 35,
   "outputs": [
    {
     "ename": "TypeError",
     "evalue": "'bytes' object cannot be interpreted as an integer",
     "output_type": "error",
     "traceback": [
      "\u001B[1;31m---------------------------------------------------------------------------\u001B[0m",
      "\u001B[1;31mTypeError\u001B[0m                                 Traceback (most recent call last)",
      "Input \u001B[1;32mIn [35]\u001B[0m, in \u001B[0;36m<cell line: 1>\u001B[1;34m()\u001B[0m\n\u001B[1;32m----> 1\u001B[0m \u001B[38;5;28;43mbin\u001B[39;49m\u001B[43m(\u001B[49m\u001B[43mbuf_header1\u001B[49m\u001B[43m[\u001B[49m\u001B[38;5;241;43m22\u001B[39;49m\u001B[43m:\u001B[49m\u001B[38;5;241;43m23\u001B[39;49m\u001B[43m]\u001B[49m\u001B[43m)\u001B[49m\n",
      "\u001B[1;31mTypeError\u001B[0m: 'bytes' object cannot be interpreted as an integer"
     ]
    }
   ],
   "source": [
    "bin(buf_header1[22:23])"
   ],
   "metadata": {
    "collapsed": false,
    "pycharm": {
     "name": "#%%\n"
    }
   }
  },
  {
   "cell_type": "code",
   "execution_count": 44,
   "outputs": [
    {
     "ename": "AttributeError",
     "evalue": "'bytes' object has no attribute 'format'",
     "output_type": "error",
     "traceback": [
      "\u001B[1;31m---------------------------------------------------------------------------\u001B[0m",
      "\u001B[1;31mAttributeError\u001B[0m                            Traceback (most recent call last)",
      "Input \u001B[1;32mIn [44]\u001B[0m, in \u001B[0;36m<cell line: 1>\u001B[1;34m()\u001B[0m\n\u001B[1;32m----> 1\u001B[0m \u001B[43mbuf_header1\u001B[49m\u001B[43m[\u001B[49m\u001B[38;5;241;43m25\u001B[39;49m\u001B[43m:\u001B[49m\u001B[38;5;241;43m26\u001B[39;49m\u001B[43m]\u001B[49m\u001B[38;5;241;43m.\u001B[39;49m\u001B[43mformat\u001B[49m(\u001B[38;5;28mint\u001B[39m(x,\u001B[38;5;241m8\u001B[39m))\n",
      "\u001B[1;31mAttributeError\u001B[0m: 'bytes' object has no attribute 'format'"
     ]
    }
   ],
   "source": [
    "buf_header1[25:26].format(int(x,8))"
   ],
   "metadata": {
    "collapsed": false,
    "pycharm": {
     "name": "#%%\n"
    }
   }
  },
  {
   "cell_type": "code",
   "execution_count": 42,
   "outputs": [
    {
     "data": {
      "text/plain": "b'\\x00'"
     },
     "execution_count": 42,
     "metadata": {},
     "output_type": "execute_result"
    }
   ],
   "source": [
    "buf_header1[24:25]"
   ],
   "metadata": {
    "collapsed": false,
    "pycharm": {
     "name": "#%%\n"
    }
   }
  },
  {
   "cell_type": "code",
   "execution_count": 54,
   "outputs": [
    {
     "data": {
      "text/plain": "(8, 15)"
     },
     "execution_count": 54,
     "metadata": {},
     "output_type": "execute_result"
    }
   ],
   "source": [
    "_bcd(buf_header1[25])"
   ],
   "metadata": {
    "collapsed": false,
    "pycharm": {
     "name": "#%%\n"
    }
   }
  },
  {
   "cell_type": "code",
   "execution_count": 52,
   "outputs": [
    {
     "data": {
      "text/plain": "(0, 0)"
     },
     "execution_count": 52,
     "metadata": {},
     "output_type": "execute_result"
    }
   ],
   "source": [
    "_bcd(buf_header1[23])"
   ],
   "metadata": {
    "collapsed": false,
    "pycharm": {
     "name": "#%%\n"
    }
   }
  },
  {
   "cell_type": "code",
   "execution_count": 49,
   "outputs": [
    {
     "data": {
      "text/plain": "(0, 8)"
     },
     "execution_count": 49,
     "metadata": {},
     "output_type": "execute_result"
    }
   ],
   "source": [
    "_bcd(buf_header1[22])"
   ],
   "metadata": {
    "collapsed": false,
    "pycharm": {
     "name": "#%%\n"
    }
   }
  },
  {
   "cell_type": "code",
   "execution_count": 51,
   "outputs": [
    {
     "data": {
      "text/plain": "0.125"
     },
     "execution_count": 51,
     "metadata": {},
     "output_type": "execute_result"
    }
   ],
   "source": [
    "# 아마 이게 맞을 듯?\n",
    "_bsi = _decode_bcd(buf_header1[22:23])\n",
    "if _bsi < 10:\n",
    "    _bsi = 1./_bsi\n",
    "else:\n",
    "    _bsi /= 10.\n",
    "_bsi"
   ],
   "metadata": {
    "collapsed": false,
    "pycharm": {
     "name": "#%%\n"
    }
   }
  },
  {
   "cell_type": "code",
   "execution_count": 55,
   "outputs": [],
   "source": [
    "_record_types = {\n",
    "    8: 'normal',\n",
    "    2: 'test record'\n",
    "}\n",
    "_rec_type, _rec_len = _bcd(buf_header1[25])\n",
    "record_type = _record_types[_rec_type]\n",
    "_rec_len = 0x100 * _rec_len\n",
    "_rec_len += _decode_bin(buf_header1[26:27])\n",
    "if _rec_len == 0xFFF:\n",
    "    _rec_len = None"
   ],
   "metadata": {
    "collapsed": false,
    "pycharm": {
     "name": "#%%\n"
    }
   }
  },
  {
   "cell_type": "code",
   "execution_count": 56,
   "outputs": [
    {
     "data": {
      "text/plain": "'normal'"
     },
     "execution_count": 56,
     "metadata": {},
     "output_type": "execute_result"
    }
   ],
   "source": [
    "record_type"
   ],
   "metadata": {
    "collapsed": false,
    "pycharm": {
     "name": "#%%\n"
    }
   }
  },
  {
   "cell_type": "code",
   "execution_count": 60,
   "outputs": [],
   "source": [
    "_rec_len"
   ],
   "metadata": {
    "collapsed": false,
    "pycharm": {
     "name": "#%%\n"
    }
   }
  },
  {
   "cell_type": "code",
   "execution_count": null,
   "outputs": [],
   "source": [],
   "metadata": {
    "collapsed": false,
    "pycharm": {
     "name": "#%%\n"
    }
   }
  }
 ],
 "metadata": {
  "kernelspec": {
   "display_name": "Python 3",
   "language": "python",
   "name": "python3"
  },
  "language_info": {
   "codemirror_mode": {
    "name": "ipython",
    "version": 2
   },
   "file_extension": ".py",
   "mimetype": "text/x-python",
   "name": "python",
   "nbconvert_exporter": "python",
   "pygments_lexer": "ipython2",
   "version": "2.7.6"
  }
 },
 "nbformat": 4,
 "nbformat_minor": 0
}